{
 "cells": [
  {
   "cell_type": "markdown",
   "id": "93e00ac1-a9fb-495d-918c-5b52c8166440",
   "metadata": {},
   "source": [
    "> Code for translating *Atom*'s fields into columns' names"
   ]
  },
  {
   "cell_type": "code",
   "execution_count": null,
   "id": "3eb44c46-4a3e-43dd-a131-def495ee2763",
   "metadata": {},
   "outputs": [],
   "source": [
    "import pathlib\n",
    "\n",
    "import pandas as pd\n",
    "import numpy as np\n",
    "import ruamel.yaml"
   ]
  },
  {
   "cell_type": "markdown",
   "id": "a6399cb6-d44d-425f-ad20-eae750c50fda",
   "metadata": {},
   "source": [
    "Names mapping is expected in the file below (not available in this repository)."
   ]
  },
  {
   "cell_type": "code",
   "execution_count": null,
   "id": "5af05418-5f26-4d96-8097-49d01c38c26f",
   "metadata": {},
   "outputs": [
    {
     "data": {
      "text/plain": [
       "PosixPath('/home/manu/dlsproc/make/PLACE.xlsx')"
      ]
     },
     "execution_count": null,
     "metadata": {},
     "output_type": "execute_result"
    }
   ],
   "source": [
    "excel_place = pathlib.Path.cwd() / 'PLACE.xlsx'\n",
    "assert excel_place.exists()\n",
    "excel_place"
   ]
  },
  {
   "cell_type": "code",
   "execution_count": null,
   "id": "d11d94e4-17aa-4c1b-8080-e1c9e49609fa",
   "metadata": {},
   "outputs": [
    {
     "data": {
      "text/html": [
       "<div>\n",
       "<style scoped>\n",
       "    .dataframe tbody tr th:only-of-type {\n",
       "        vertical-align: middle;\n",
       "    }\n",
       "\n",
       "    .dataframe tbody tr th {\n",
       "        vertical-align: top;\n",
       "    }\n",
       "\n",
       "    .dataframe thead th {\n",
       "        text-align: right;\n",
       "    }\n",
       "</style>\n",
       "<table border=\"1\" class=\"dataframe\">\n",
       "  <thead>\n",
       "    <tr style=\"text-align: right;\">\n",
       "      <th></th>\n",
       "      <th>Unnamed: 0</th>\n",
       "      <th>Unnamed: 1</th>\n",
       "      <th>Unnamed: 2</th>\n",
       "      <th>Unnamed: 3</th>\n",
       "      <th>Unnamed: 4</th>\n",
       "      <th>Unnamed: 5</th>\n",
       "      <th>Unnamed: 6</th>\n",
       "      <th>Categoría</th>\n",
       "      <th>Dato</th>\n",
       "    </tr>\n",
       "  </thead>\n",
       "  <tbody>\n",
       "    <tr>\n",
       "      <th>0</th>\n",
       "      <td>id</td>\n",
       "      <td>NaN</td>\n",
       "      <td>NaN</td>\n",
       "      <td>NaN</td>\n",
       "      <td>NaN</td>\n",
       "      <td>NaN</td>\n",
       "      <td>NaN</td>\n",
       "      <td>NaN</td>\n",
       "      <td>id</td>\n",
       "    </tr>\n",
       "    <tr>\n",
       "      <th>1</th>\n",
       "      <td>summary</td>\n",
       "      <td>NaN</td>\n",
       "      <td>NaN</td>\n",
       "      <td>NaN</td>\n",
       "      <td>NaN</td>\n",
       "      <td>NaN</td>\n",
       "      <td>NaN</td>\n",
       "      <td>NaN</td>\n",
       "      <td>summary</td>\n",
       "    </tr>\n",
       "    <tr>\n",
       "      <th>2</th>\n",
       "      <td>title</td>\n",
       "      <td>NaN</td>\n",
       "      <td>NaN</td>\n",
       "      <td>NaN</td>\n",
       "      <td>NaN</td>\n",
       "      <td>NaN</td>\n",
       "      <td>NaN</td>\n",
       "      <td>NaN</td>\n",
       "      <td>title</td>\n",
       "    </tr>\n",
       "    <tr>\n",
       "      <th>3</th>\n",
       "      <td>updated</td>\n",
       "      <td>NaN</td>\n",
       "      <td>NaN</td>\n",
       "      <td>NaN</td>\n",
       "      <td>NaN</td>\n",
       "      <td>NaN</td>\n",
       "      <td>NaN</td>\n",
       "      <td>NaN</td>\n",
       "      <td>updated</td>\n",
       "    </tr>\n",
       "    <tr>\n",
       "      <th>4</th>\n",
       "      <td>ContractFolderStatus</td>\n",
       "      <td>ContractFolderID</td>\n",
       "      <td>NaN</td>\n",
       "      <td>NaN</td>\n",
       "      <td>NaN</td>\n",
       "      <td>NaN</td>\n",
       "      <td>NaN</td>\n",
       "      <td>Datos Generales del Expediente</td>\n",
       "      <td>Número de Expediente</td>\n",
       "    </tr>\n",
       "  </tbody>\n",
       "</table>\n",
       "</div>"
      ],
      "text/plain": [
       "             Unnamed: 0        Unnamed: 1 Unnamed: 2 Unnamed: 3 Unnamed: 4  \\\n",
       "0                    id               NaN        NaN        NaN        NaN   \n",
       "1               summary               NaN        NaN        NaN        NaN   \n",
       "2                 title               NaN        NaN        NaN        NaN   \n",
       "3               updated               NaN        NaN        NaN        NaN   \n",
       "4  ContractFolderStatus  ContractFolderID        NaN        NaN        NaN   \n",
       "\n",
       "  Unnamed: 5 Unnamed: 6                       Categoría                  Dato  \n",
       "0        NaN        NaN                             NaN                    id  \n",
       "1        NaN        NaN                             NaN               summary  \n",
       "2        NaN        NaN                             NaN                 title  \n",
       "3        NaN        NaN                             NaN               updated  \n",
       "4        NaN        NaN  Datos Generales del Expediente  Número de Expediente  "
      ]
     },
     "execution_count": null,
     "metadata": {},
     "output_type": "execute_result"
    }
   ],
   "source": [
    "df = pd.read_excel(excel_place, sheet_name='Agregados sin menores', skiprows=5, usecols='A:I')\n",
    "df.head()"
   ]
  },
  {
   "cell_type": "markdown",
   "id": "506467f9-7e3f-4c4a-9273-3fb70e13ddbb",
   "metadata": {},
   "source": [
    "There are columns that are mapped to the same (*Dato*) name."
   ]
  },
  {
   "cell_type": "code",
   "execution_count": null,
   "id": "b11501a8-29d1-40b5-8fc0-c9059f13782e",
   "metadata": {},
   "outputs": [
    {
     "data": {
      "text/html": [
       "<div>\n",
       "<style scoped>\n",
       "    .dataframe tbody tr th:only-of-type {\n",
       "        vertical-align: middle;\n",
       "    }\n",
       "\n",
       "    .dataframe tbody tr th {\n",
       "        vertical-align: top;\n",
       "    }\n",
       "\n",
       "    .dataframe thead th {\n",
       "        text-align: right;\n",
       "    }\n",
       "</style>\n",
       "<table border=\"1\" class=\"dataframe\">\n",
       "  <thead>\n",
       "    <tr style=\"text-align: right;\">\n",
       "      <th></th>\n",
       "      <th>Unnamed: 0</th>\n",
       "      <th>Unnamed: 1</th>\n",
       "      <th>Unnamed: 2</th>\n",
       "      <th>Unnamed: 3</th>\n",
       "      <th>Unnamed: 4</th>\n",
       "      <th>Unnamed: 5</th>\n",
       "      <th>Unnamed: 6</th>\n",
       "      <th>Categoría</th>\n",
       "      <th>Dato</th>\n",
       "    </tr>\n",
       "  </thead>\n",
       "  <tbody>\n",
       "    <tr>\n",
       "      <th>50</th>\n",
       "      <td>ContractFolderStatus</td>\n",
       "      <td>LegalDocumentReference</td>\n",
       "      <td>Attachment</td>\n",
       "      <td>ExternalReference</td>\n",
       "      <td>URI</td>\n",
       "      <td>NaN</td>\n",
       "      <td>NaN</td>\n",
       "      <td>Datos Generales del Expediente</td>\n",
       "      <td>Pliego de cláusulas administrativas (URI)</td>\n",
       "    </tr>\n",
       "    <tr>\n",
       "      <th>51</th>\n",
       "      <td>ContractFolderStatus</td>\n",
       "      <td>TechnicalDocumentReference</td>\n",
       "      <td>ID</td>\n",
       "      <td>NaN</td>\n",
       "      <td>NaN</td>\n",
       "      <td>NaN</td>\n",
       "      <td>NaN</td>\n",
       "      <td>Datos Generales del Expediente</td>\n",
       "      <td>Pliego de Prescripciones técnicas</td>\n",
       "    </tr>\n",
       "    <tr>\n",
       "      <th>52</th>\n",
       "      <td>ContractFolderStatus</td>\n",
       "      <td>TechnicalDocumentReference</td>\n",
       "      <td>Attachment</td>\n",
       "      <td>ExternalReference</td>\n",
       "      <td>URI</td>\n",
       "      <td>NaN</td>\n",
       "      <td>NaN</td>\n",
       "      <td>Datos Generales del Expediente</td>\n",
       "      <td>Pliego de Prescripciones técnicas (URI)</td>\n",
       "    </tr>\n",
       "    <tr>\n",
       "      <th>53</th>\n",
       "      <td>ContractFolderStatus</td>\n",
       "      <td>AdditionalDocumentReference</td>\n",
       "      <td>ID</td>\n",
       "      <td>NaN</td>\n",
       "      <td>NaN</td>\n",
       "      <td>NaN</td>\n",
       "      <td>NaN</td>\n",
       "      <td>Datos Generales del Expediente</td>\n",
       "      <td>Anexos a los pliegos</td>\n",
       "    </tr>\n",
       "    <tr>\n",
       "      <th>54</th>\n",
       "      <td>ContractFolderStatus</td>\n",
       "      <td>AdditionalDocumentReference</td>\n",
       "      <td>Attachment</td>\n",
       "      <td>ExternalReference</td>\n",
       "      <td>URI</td>\n",
       "      <td>NaN</td>\n",
       "      <td>NaN</td>\n",
       "      <td>Datos Generales del Expediente</td>\n",
       "      <td>Anexos a los pliegos (URI)</td>\n",
       "    </tr>\n",
       "  </tbody>\n",
       "</table>\n",
       "</div>"
      ],
      "text/plain": [
       "              Unnamed: 0                   Unnamed: 1  Unnamed: 2  \\\n",
       "50  ContractFolderStatus       LegalDocumentReference  Attachment   \n",
       "51  ContractFolderStatus   TechnicalDocumentReference          ID   \n",
       "52  ContractFolderStatus   TechnicalDocumentReference  Attachment   \n",
       "53  ContractFolderStatus  AdditionalDocumentReference          ID   \n",
       "54  ContractFolderStatus  AdditionalDocumentReference  Attachment   \n",
       "\n",
       "           Unnamed: 3 Unnamed: 4 Unnamed: 5 Unnamed: 6  \\\n",
       "50  ExternalReference        URI        NaN        NaN   \n",
       "51                NaN        NaN        NaN        NaN   \n",
       "52  ExternalReference        URI        NaN        NaN   \n",
       "53                NaN        NaN        NaN        NaN   \n",
       "54  ExternalReference        URI        NaN        NaN   \n",
       "\n",
       "                         Categoría                                       Dato  \n",
       "50  Datos Generales del Expediente  Pliego de cláusulas administrativas (URI)  \n",
       "51  Datos Generales del Expediente          Pliego de Prescripciones técnicas  \n",
       "52  Datos Generales del Expediente    Pliego de Prescripciones técnicas (URI)  \n",
       "53  Datos Generales del Expediente                       Anexos a los pliegos  \n",
       "54  Datos Generales del Expediente                 Anexos a los pliegos (URI)  "
      ]
     },
     "execution_count": null,
     "metadata": {},
     "output_type": "execute_result"
    }
   ],
   "source": [
    "df.iloc[50:]"
   ]
  },
  {
   "cell_type": "markdown",
   "id": "286db44c-a821-4643-a59c-65ddfe80e5e1",
   "metadata": {},
   "source": [
    "Maximum number of levels is inferred"
   ]
  },
  {
   "cell_type": "code",
   "execution_count": null,
   "id": "7c5764b3-6d68-45b9-961c-a1bfc4b105fd",
   "metadata": {},
   "outputs": [
    {
     "data": {
      "text/plain": [
       "7"
      ]
     },
     "execution_count": null,
     "metadata": {},
     "output_type": "execute_result"
    }
   ],
   "source": [
    "max_levels = df.shape[1] - 2\n",
    "max_levels"
   ]
  },
  {
   "cell_type": "code",
   "execution_count": null,
   "id": "dd3fc8e5-8dc8-441e-80ff-48d352e57edd",
   "metadata": {},
   "outputs": [],
   "source": [
    "mapping = {}\n",
    "for t in df.itertuples(index=False):\n",
    "    \n",
    "    # only if there is a \"to\" for this path in the *Atom*...\n",
    "    if t[-1] != '???':\n",
    "        \n",
    "        if t[-1] in mapping:\n",
    "            \n",
    "            print(f'overwriting {t[-1]} -> {mapping[t[-1]]}\\nwith {t[:max_levels]}')\n",
    "        \n",
    "        # ...the mapping is saved\n",
    "        mapping[t[-1]] = t[:max_levels]"
   ]
  },
  {
   "cell_type": "markdown",
   "id": "d35b09b1-65f6-417f-809c-b3913f3fec96",
   "metadata": {},
   "source": [
    "First few pairs *key: value*"
   ]
  },
  {
   "cell_type": "code",
   "execution_count": null,
   "id": "49dbc653-e0e3-4093-a593-d28901464f80",
   "metadata": {},
   "outputs": [
    {
     "data": {
      "text/plain": [
       "{'id': ('id', nan, nan, nan, nan, nan, nan),\n",
       " 'summary': ('summary', nan, nan, nan, nan, nan, nan),\n",
       " 'title': ('title', nan, nan, nan, nan, nan, nan),\n",
       " 'updated': ('updated', nan, nan, nan, nan, nan, nan),\n",
       " 'Número de Expediente': ('ContractFolderStatus',\n",
       "  'ContractFolderID',\n",
       "  nan,\n",
       "  nan,\n",
       "  nan,\n",
       "  nan,\n",
       "  nan)}"
      ]
     },
     "execution_count": null,
     "metadata": {},
     "output_type": "execute_result"
    }
   ],
   "source": [
    "{k: mapping[k] for k in list(mapping)[:5]}"
   ]
  },
  {
   "cell_type": "code",
   "execution_count": null,
   "id": "d9885f59-caf7-4be2-ba58-b809d3a34e5f",
   "metadata": {},
   "outputs": [
    {
     "data": {
      "text/plain": [
       "float"
      ]
     },
     "execution_count": null,
     "metadata": {},
     "output_type": "execute_result"
    }
   ],
   "source": [
    "type(mapping['id'][-1])"
   ]
  },
  {
   "cell_type": "markdown",
   "id": "d0abed4f-3abe-47bd-8c9b-11b2f4e00e64",
   "metadata": {},
   "source": [
    "One can manually add some correspondences"
   ]
  },
  {
   "cell_type": "code",
   "execution_count": null,
   "id": "cebe295e-6e22-4f5d-9a5d-946548336442",
   "metadata": {},
   "outputs": [],
   "source": [
    "new_path = ('ContractFolderStatus', 'TenderingProcess', 'TenderSubmissionDeadlinePeriod')\n",
    "mapping['Presentación de Oferta'] = new_path + tuple([np.NAN] * (max_levels - len(new_path)))"
   ]
  },
  {
   "cell_type": "code",
   "execution_count": null,
   "id": "bf8a8d9d-15fc-45fb-bcdc-807dc5d3c3d9",
   "metadata": {},
   "outputs": [],
   "source": [
    "output_file = pathlib.Path('PLACE.yaml')"
   ]
  },
  {
   "cell_type": "code",
   "execution_count": null,
   "id": "b836f47a-cb8e-4bfb-9730-6fda2e81ec4d",
   "metadata": {},
   "outputs": [],
   "source": [
    "yaml = ruamel.yaml.YAML()\n",
    "yaml.indent(sequence=4, offset=2)\n",
    "# yaml.default_flow_style = True\n",
    "\n",
    "with open(output_file, 'w') as f:\n",
    "    yaml.dump(mapping, f)"
   ]
  }
 ],
 "metadata": {
  "kernelspec": {
   "display_name": "Python 3 (ipykernel)",
   "language": "python",
   "name": "python3"
  }
 },
 "nbformat": 4,
 "nbformat_minor": 5
}
