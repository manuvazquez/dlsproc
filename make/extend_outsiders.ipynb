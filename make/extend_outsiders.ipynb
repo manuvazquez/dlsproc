{
 "cells": [
  {
   "cell_type": "code",
   "execution_count": 1,
   "metadata": {},
   "outputs": [],
   "source": [
    "import pathlib\n",
    "import shutil\n",
    "\n",
    "import pandas as pd\n",
    "import yaml\n",
    "\n",
    "import dlsproc.extend\n",
    "import dlsproc.hier"
   ]
  },
  {
   "cell_type": "markdown",
   "metadata": {},
   "source": [
    "So that *all* the columns of a `pd.DataFrame` are shown:"
   ]
  },
  {
   "cell_type": "code",
   "execution_count": 2,
   "metadata": {},
   "outputs": [],
   "source": [
    "pd.set_option('display.max_columns', None)"
   ]
  },
  {
   "cell_type": "markdown",
   "metadata": {},
   "source": [
    "# Directories"
   ]
  },
  {
   "cell_type": "markdown",
   "metadata": {},
   "source": [
    "The directory containing downloaded data:"
   ]
  },
  {
   "cell_type": "code",
   "execution_count": 3,
   "metadata": {},
   "outputs": [
    {
     "name": "stdout",
     "output_type": "stream",
     "text": [
      "/home/manu/dlsproc/data/agregados\n"
     ]
    }
   ],
   "source": [
    "data_directory = pathlib.Path.cwd().parent / 'data' / 'agregados'\n",
    "assert data_directory.exists()\n",
    "print(data_directory)"
   ]
  },
  {
   "cell_type": "markdown",
   "metadata": {},
   "source": [
    "A `list` with all the *zip* files that are to be processed"
   ]
  },
  {
   "cell_type": "code",
   "execution_count": 4,
   "metadata": {},
   "outputs": [
    {
     "data": {
      "text/plain": [
       "[PosixPath('/home/manu/dlsproc/data/agregados/PlataformasAgregadasSinMenores_202201.zip'),\n",
       " PosixPath('/home/manu/dlsproc/data/agregados/PlataformasAgregadasSinMenores_202202.zip'),\n",
       " PosixPath('/home/manu/dlsproc/data/agregados/PlataformasAgregadasSinMenores_202203.zip'),\n",
       " PosixPath('/home/manu/dlsproc/data/agregados/PlataformasAgregadasSinMenores_202204.zip'),\n",
       " PosixPath('/home/manu/dlsproc/data/agregados/PlataformasAgregadasSinMenores_202205.zip'),\n",
       " PosixPath('/home/manu/dlsproc/data/agregados/PlataformasAgregadasSinMenores_202206.zip')]"
      ]
     },
     "execution_count": 4,
     "metadata": {},
     "output_type": "execute_result"
    }
   ],
   "source": [
    "new_zip_files = sorted(data_directory.glob('PlataformasAgregadasSinMenores_2022*.zip'))\n",
    "new_zip_files"
   ]
  },
  {
   "cell_type": "markdown",
   "metadata": {},
   "source": [
    "The final output file"
   ]
  },
  {
   "cell_type": "code",
   "execution_count": 5,
   "metadata": {},
   "outputs": [
    {
     "data": {
      "text/plain": [
       "PosixPath('/home/manu/dlsproc/data/agregados/agregados_sin_menores_multiindex.parquet')"
      ]
     },
     "execution_count": 5,
     "metadata": {},
     "output_type": "execute_result"
    }
   ],
   "source": [
    "output_file = data_directory / 'agregados_sin_menores_multiindex.parquet'\n",
    "output_file"
   ]
  },
  {
   "cell_type": "markdown",
   "metadata": {},
   "source": [
    "The historical file (in *parquet* format)"
   ]
  },
  {
   "cell_type": "code",
   "execution_count": 6,
   "metadata": {},
   "outputs": [
    {
     "name": "stdout",
     "output_type": "stream",
     "text": [
      "history_file=PosixPath('/home/manu/dlsproc/data/agregados/2018-2021.parquet')\n"
     ]
    }
   ],
   "source": [
    "# history_file = pathlib.Path.cwd().parent / 'make' / '2018-2021.parquet'\n",
    "history_file = data_directory / '2018-2021.parquet'\n",
    "assert history_file.exists()\n",
    "print(f'{history_file=}')"
   ]
  },
  {
   "cell_type": "markdown",
   "metadata": {},
   "source": [
    "# Files"
   ]
  },
  {
   "cell_type": "markdown",
   "metadata": {},
   "source": [
    "The output file is in the beginning a copy of the *history file*"
   ]
  },
  {
   "cell_type": "code",
   "execution_count": 7,
   "metadata": {},
   "outputs": [
    {
     "data": {
      "text/plain": [
       "PosixPath('/home/manu/dlsproc/data/agregados/agregados_sin_menores_multiindex.parquet')"
      ]
     },
     "execution_count": 7,
     "metadata": {},
     "output_type": "execute_result"
    }
   ],
   "source": [
    "shutil.copy(history_file, output_file)"
   ]
  },
  {
   "cell_type": "code",
   "execution_count": 8,
   "metadata": {},
   "outputs": [
    {
     "name": "stdout",
     "output_type": "stream",
     "text": [
      "appending /home/manu/dlsproc/data/agregados/PlataformasAgregadasSinMenores_202201.zip\n",
      "appending /home/manu/dlsproc/data/agregados/PlataformasAgregadasSinMenores_202202.zip\n",
      "appending /home/manu/dlsproc/data/agregados/PlataformasAgregadasSinMenores_202203.zip\n",
      "appending /home/manu/dlsproc/data/agregados/PlataformasAgregadasSinMenores_202204.zip\n",
      "appending /home/manu/dlsproc/data/agregados/PlataformasAgregadasSinMenores_202205.zip\n",
      "appending /home/manu/dlsproc/data/agregados/PlataformasAgregadasSinMenores_202206.zip\n"
     ]
    }
   ],
   "source": [
    "for i, zip_file in enumerate(new_zip_files):\n",
    "    print(f'appending {zip_file}')\n",
    "    dlsproc.extend.parquet_with_zip(output_file, zip_file, output_file)"
   ]
  },
  {
   "cell_type": "code",
   "execution_count": 9,
   "metadata": {},
   "outputs": [
    {
     "name": "stdout",
     "output_type": "stream",
     "text": [
      "2018-2021.parquet\n",
      "2018-2021.pickle\n",
      "agregados_sin_menores_multiindex.parquet\n",
      "\u001b[0m\u001b[01;31mPlataformasAgregadasSinMenores_2018.zip\u001b[0m\n",
      "\u001b[01;31mPlataformasAgregadasSinMenores_2019.zip\u001b[0m\n",
      "\u001b[01;31mPlataformasAgregadasSinMenores_2020.zip\u001b[0m\n",
      "\u001b[01;31mPlataformasAgregadasSinMenores_2021.zip\u001b[0m\n",
      "\u001b[01;31mPlataformasAgregadasSinMenores_202201.zip\u001b[0m\n",
      "\u001b[01;31mPlataformasAgregadasSinMenores_202202.zip\u001b[0m\n",
      "\u001b[01;31mPlataformasAgregadasSinMenores_202203.zip\u001b[0m\n",
      "\u001b[01;31mPlataformasAgregadasSinMenores_202204.zip\u001b[0m\n",
      "\u001b[01;31mPlataformasAgregadasSinMenores_202205.zip\u001b[0m\n",
      "\u001b[01;31mPlataformasAgregadasSinMenores_202206.zip\u001b[0m\n",
      "\u001b[01;34mtmp\u001b[0m/\n"
     ]
    }
   ],
   "source": [
    "%ls {output_file.parent}"
   ]
  },
  {
   "cell_type": "code",
   "execution_count": 10,
   "metadata": {},
   "outputs": [
    {
     "data": {
      "text/plain": [
       "(207088, 43)"
      ]
     },
     "execution_count": 10,
     "metadata": {},
     "output_type": "execute_result"
    }
   ],
   "source": [
    "res_df = pd.read_parquet(output_file)\n",
    "res_df.shape"
   ]
  },
  {
   "cell_type": "markdown",
   "metadata": {},
   "source": [
    "An Excel file mapping *human-readable* fields to *multiindexed* columns. The latter was processed in `naming.ipynb` to get the file below."
   ]
  },
  {
   "cell_type": "code",
   "execution_count": 15,
   "metadata": {},
   "outputs": [],
   "source": [
    "data_scheme_file = pathlib.Path.cwd().parent / 'samples' / 'PLACE.yaml'\n",
    "assert data_scheme_file.exists()"
   ]
  },
  {
   "cell_type": "markdown",
   "metadata": {},
   "source": [
    "It provides (as a `dict`) a mapping from *human-readable* names to (maybe nested) fields in *Atom* files"
   ]
  },
  {
   "cell_type": "code",
   "execution_count": 16,
   "metadata": {},
   "outputs": [],
   "source": [
    "with open(data_scheme_file) as yaml_data:\n",
    "    data_scheme = yaml.load(yaml_data, Loader=yaml.FullLoader)"
   ]
  },
  {
   "cell_type": "code",
   "execution_count": 17,
   "metadata": {},
   "outputs": [
    {
     "data": {
      "text/html": [
       "<div>\n",
       "<style scoped>\n",
       "    .dataframe tbody tr th:only-of-type {\n",
       "        vertical-align: middle;\n",
       "    }\n",
       "\n",
       "    .dataframe tbody tr th {\n",
       "        vertical-align: top;\n",
       "    }\n",
       "\n",
       "    .dataframe thead th {\n",
       "        text-align: right;\n",
       "    }\n",
       "</style>\n",
       "<table border=\"1\" class=\"dataframe\">\n",
       "  <thead>\n",
       "    <tr style=\"text-align: right;\">\n",
       "      <th></th>\n",
       "      <th></th>\n",
       "      <th>id</th>\n",
       "      <th>summary</th>\n",
       "      <th>title</th>\n",
       "      <th>updated</th>\n",
       "      <th>Número de Expediente</th>\n",
       "      <th>Estado</th>\n",
       "      <th>Nombre</th>\n",
       "      <th>Objeto del Contrato</th>\n",
       "      <th>Tipo de Contrato</th>\n",
       "      <th>Valor estimado del contrato</th>\n",
       "      <th>Presupuesto base sin impuestos</th>\n",
       "      <th>Clasificación CPV</th>\n",
       "      <th>Código de Subentidad Nacional</th>\n",
       "      <th>Plazo de Ejecución (Duración)</th>\n",
       "      <th>Resultado</th>\n",
       "      <th>Número de Licitadores Participantes</th>\n",
       "      <th>Identificador (+ Tipo: mod schemeName)</th>\n",
       "      <th>Nombre del Adjudicatario</th>\n",
       "      <th>Importe total ofertado (sin impuestos)</th>\n",
       "      <th>Tipo de Procedimiento</th>\n",
       "      <th>Presentación de Oferta (Fecha)</th>\n",
       "      <th>Presentación de Oferta (Hora)</th>\n",
       "      <th>Pliego de cláusulas administrativas</th>\n",
       "      <th>Pliego de cláusulas administrativas (URI)</th>\n",
       "      <th>Tipo de Anuncio</th>\n",
       "      <th>Medio de Publicación</th>\n",
       "      <th>Fecha de Publicación</th>\n",
       "      <th>Ubicación orgánica</th>\n",
       "      <th>Presentación de Solicitudes (Fecha)</th>\n",
       "      <th>Presentación de Solicitudes (Hora)</th>\n",
       "      <th>Pliego de Prescripciones técnicas</th>\n",
       "      <th>Pliego de Prescripciones técnicas (URI)</th>\n",
       "      <th>ContractFolderStatus - LocatedContractingParty - ParentLocatedParty - ParentLocatedParty - PartyName - Name</th>\n",
       "      <th>Plazo de Ejecución (Comienzo)</th>\n",
       "      <th>Plazo de Ejecución (Fin)</th>\n",
       "      <th>ID</th>\n",
       "      <th>Lote</th>\n",
       "      <th>ContractFolderStatus - LocatedContractingParty - ParentLocatedParty - ParentLocatedParty - ParentLocatedParty - PartyName - Name</th>\n",
       "      <th>Presentación de Oferta</th>\n",
       "      <th>ContractFolderStatus - LocatedContractingParty - ParentLocatedParty - ParentLocatedParty - ParentLocatedParty - ParentLocatedParty - PartyName - Name</th>\n",
       "      <th>Presentación de Oferta (Observaciones)</th>\n",
       "      <th>URL perfil de contratante</th>\n",
       "      <th>deleted_on</th>\n",
       "    </tr>\n",
       "    <tr>\n",
       "      <th>file name</th>\n",
       "      <th>entry</th>\n",
       "      <th></th>\n",
       "      <th></th>\n",
       "      <th></th>\n",
       "      <th></th>\n",
       "      <th></th>\n",
       "      <th></th>\n",
       "      <th></th>\n",
       "      <th></th>\n",
       "      <th></th>\n",
       "      <th></th>\n",
       "      <th></th>\n",
       "      <th></th>\n",
       "      <th></th>\n",
       "      <th></th>\n",
       "      <th></th>\n",
       "      <th></th>\n",
       "      <th></th>\n",
       "      <th></th>\n",
       "      <th></th>\n",
       "      <th></th>\n",
       "      <th></th>\n",
       "      <th></th>\n",
       "      <th></th>\n",
       "      <th></th>\n",
       "      <th></th>\n",
       "      <th></th>\n",
       "      <th></th>\n",
       "      <th></th>\n",
       "      <th></th>\n",
       "      <th></th>\n",
       "      <th></th>\n",
       "      <th></th>\n",
       "      <th></th>\n",
       "      <th></th>\n",
       "      <th></th>\n",
       "      <th></th>\n",
       "      <th></th>\n",
       "      <th></th>\n",
       "      <th></th>\n",
       "      <th></th>\n",
       "      <th></th>\n",
       "      <th></th>\n",
       "      <th></th>\n",
       "    </tr>\n",
       "  </thead>\n",
       "  <tbody>\n",
       "    <tr>\n",
       "      <th rowspan=\"2\" valign=\"top\">PlataformasAgregadasSinMenores_20180217_180137_1.atom</th>\n",
       "      <th>453</th>\n",
       "      <td>https://contrataciondelestado.es/sindicacion/P...</td>\n",
       "      <td>Expediente: 1284/17, Entidad: Diputación Provi...</td>\n",
       "      <td>Refuerzo de Firme en la VP 3001 Renedo de Esgu...</td>\n",
       "      <td>2018-01-02 08:01:52.024000+00:00</td>\n",
       "      <td>1284/17</td>\n",
       "      <td>RES</td>\n",
       "      <td>Diputación Provincial de Valladolid</td>\n",
       "      <td>Refuerzo de Firme en la VP 3001 Renedo de Esgu...</td>\n",
       "      <td>3.0</td>\n",
       "      <td>89917.95</td>\n",
       "      <td>89917.95</td>\n",
       "      <td>[45233142.0]</td>\n",
       "      <td>ES418</td>\n",
       "      <td>3.0</td>\n",
       "      <td>[8.0]</td>\n",
       "      <td>[14.0]</td>\n",
       "      <td>[A47082185]</td>\n",
       "      <td>[CONSTRUCCIONES HERMANOS SASTRE S.A.]</td>\n",
       "      <td>[60690.08]</td>\n",
       "      <td>1.0</td>\n",
       "      <td>2017-11-02</td>\n",
       "      <td>23:59:00</td>\n",
       "      <td>&lt;NA&gt;</td>\n",
       "      <td>&lt;NA&gt;</td>\n",
       "      <td>[DOC_FORM]</td>\n",
       "      <td>[Publicación del anuncio de formalización en u...</td>\n",
       "      <td>[2018-01-02]</td>\n",
       "      <td>&lt;NA&gt;</td>\n",
       "      <td>2017-11-02</td>\n",
       "      <td>23:59:00</td>\n",
       "      <td>&lt;NA&gt;</td>\n",
       "      <td>&lt;NA&gt;</td>\n",
       "      <td>&lt;NA&gt;</td>\n",
       "      <td>&lt;NA&gt;</td>\n",
       "      <td>&lt;NA&gt;</td>\n",
       "      <td>L02000047</td>\n",
       "      <td>[1.0]</td>\n",
       "      <td>&lt;NA&gt;</td>\n",
       "      <td>2017-11-02 23:59:00+00:00</td>\n",
       "      <td>&lt;NA&gt;</td>\n",
       "      <td>&lt;NA&gt;</td>\n",
       "      <td>&lt;NA&gt;</td>\n",
       "      <td>NaT</td>\n",
       "    </tr>\n",
       "    <tr>\n",
       "      <th>452</th>\n",
       "      <td>https://contrataciondelestado.es/sindicacion/P...</td>\n",
       "      <td>Expediente: 1282/17, Entidad: Diputación Provi...</td>\n",
       "      <td>Refuerzo de Firme en la VP 6603 Mota del Marqu...</td>\n",
       "      <td>2018-01-02 08:02:24.833000+00:00</td>\n",
       "      <td>1282/17</td>\n",
       "      <td>RES</td>\n",
       "      <td>Diputación Provincial de Valladolid</td>\n",
       "      <td>Refuerzo de Firme en la VP 6603 Mota del Marqu...</td>\n",
       "      <td>3.0</td>\n",
       "      <td>175708.46</td>\n",
       "      <td>175708.46</td>\n",
       "      <td>[45233142.0]</td>\n",
       "      <td>ES418</td>\n",
       "      <td>3.0</td>\n",
       "      <td>[8.0]</td>\n",
       "      <td>[13.0]</td>\n",
       "      <td>[A49012792]</td>\n",
       "      <td>[CONTRATAS Y OBRAS SAN GREGORIO S.A.]</td>\n",
       "      <td>[118919.49]</td>\n",
       "      <td>1.0</td>\n",
       "      <td>2017-11-02</td>\n",
       "      <td>23:59:00</td>\n",
       "      <td>&lt;NA&gt;</td>\n",
       "      <td>&lt;NA&gt;</td>\n",
       "      <td>[DOC_FORM]</td>\n",
       "      <td>[Publicación del anuncio de formalización en u...</td>\n",
       "      <td>[2018-01-02]</td>\n",
       "      <td>&lt;NA&gt;</td>\n",
       "      <td>2017-11-02</td>\n",
       "      <td>23:59:00</td>\n",
       "      <td>&lt;NA&gt;</td>\n",
       "      <td>&lt;NA&gt;</td>\n",
       "      <td>&lt;NA&gt;</td>\n",
       "      <td>&lt;NA&gt;</td>\n",
       "      <td>&lt;NA&gt;</td>\n",
       "      <td>L02000047</td>\n",
       "      <td>[1.0]</td>\n",
       "      <td>&lt;NA&gt;</td>\n",
       "      <td>2017-11-02 23:59:00+00:00</td>\n",
       "      <td>&lt;NA&gt;</td>\n",
       "      <td>&lt;NA&gt;</td>\n",
       "      <td>&lt;NA&gt;</td>\n",
       "      <td>NaT</td>\n",
       "    </tr>\n",
       "  </tbody>\n",
       "</table>\n",
       "</div>"
      ],
      "text/plain": [
       "                                                                                                         id  \\\n",
       "file name                                          entry                                                      \n",
       "PlataformasAgregadasSinMenores_20180217_180137_... 453    https://contrataciondelestado.es/sindicacion/P...   \n",
       "                                                   452    https://contrataciondelestado.es/sindicacion/P...   \n",
       "\n",
       "                                                                                                    summary  \\\n",
       "file name                                          entry                                                      \n",
       "PlataformasAgregadasSinMenores_20180217_180137_... 453    Expediente: 1284/17, Entidad: Diputación Provi...   \n",
       "                                                   452    Expediente: 1282/17, Entidad: Diputación Provi...   \n",
       "\n",
       "                                                                                                      title  \\\n",
       "file name                                          entry                                                      \n",
       "PlataformasAgregadasSinMenores_20180217_180137_... 453    Refuerzo de Firme en la VP 3001 Renedo de Esgu...   \n",
       "                                                   452    Refuerzo de Firme en la VP 6603 Mota del Marqu...   \n",
       "\n",
       "                                                                                  updated  \\\n",
       "file name                                          entry                                    \n",
       "PlataformasAgregadasSinMenores_20180217_180137_... 453   2018-01-02 08:01:52.024000+00:00   \n",
       "                                                   452   2018-01-02 08:02:24.833000+00:00   \n",
       "\n",
       "                                                         Número de Expediente  \\\n",
       "file name                                          entry                        \n",
       "PlataformasAgregadasSinMenores_20180217_180137_... 453                1284/17   \n",
       "                                                   452                1282/17   \n",
       "\n",
       "                                                         Estado  \\\n",
       "file name                                          entry          \n",
       "PlataformasAgregadasSinMenores_20180217_180137_... 453      RES   \n",
       "                                                   452      RES   \n",
       "\n",
       "                                                                                       Nombre  \\\n",
       "file name                                          entry                                        \n",
       "PlataformasAgregadasSinMenores_20180217_180137_... 453    Diputación Provincial de Valladolid   \n",
       "                                                   452    Diputación Provincial de Valladolid   \n",
       "\n",
       "                                                                                        Objeto del Contrato  \\\n",
       "file name                                          entry                                                      \n",
       "PlataformasAgregadasSinMenores_20180217_180137_... 453    Refuerzo de Firme en la VP 3001 Renedo de Esgu...   \n",
       "                                                   452    Refuerzo de Firme en la VP 6603 Mota del Marqu...   \n",
       "\n",
       "                                                          Tipo de Contrato  \\\n",
       "file name                                          entry                     \n",
       "PlataformasAgregadasSinMenores_20180217_180137_... 453                 3.0   \n",
       "                                                   452                 3.0   \n",
       "\n",
       "                                                          Valor estimado del contrato  \\\n",
       "file name                                          entry                                \n",
       "PlataformasAgregadasSinMenores_20180217_180137_... 453                       89917.95   \n",
       "                                                   452                      175708.46   \n",
       "\n",
       "                                                          Presupuesto base sin impuestos  \\\n",
       "file name                                          entry                                   \n",
       "PlataformasAgregadasSinMenores_20180217_180137_... 453                          89917.95   \n",
       "                                                   452                         175708.46   \n",
       "\n",
       "                                                         Clasificación CPV  \\\n",
       "file name                                          entry                     \n",
       "PlataformasAgregadasSinMenores_20180217_180137_... 453        [45233142.0]   \n",
       "                                                   452        [45233142.0]   \n",
       "\n",
       "                                                         Código de Subentidad Nacional  \\\n",
       "file name                                          entry                                 \n",
       "PlataformasAgregadasSinMenores_20180217_180137_... 453                           ES418   \n",
       "                                                   452                           ES418   \n",
       "\n",
       "                                                          Plazo de Ejecución (Duración)  \\\n",
       "file name                                          entry                                  \n",
       "PlataformasAgregadasSinMenores_20180217_180137_... 453                              3.0   \n",
       "                                                   452                              3.0   \n",
       "\n",
       "                                                         Resultado  \\\n",
       "file name                                          entry             \n",
       "PlataformasAgregadasSinMenores_20180217_180137_... 453       [8.0]   \n",
       "                                                   452       [8.0]   \n",
       "\n",
       "                                                         Número de Licitadores Participantes  \\\n",
       "file name                                          entry                                       \n",
       "PlataformasAgregadasSinMenores_20180217_180137_... 453                                [14.0]   \n",
       "                                                   452                                [13.0]   \n",
       "\n",
       "                                                         Identificador (+ Tipo: mod schemeName)  \\\n",
       "file name                                          entry                                          \n",
       "PlataformasAgregadasSinMenores_20180217_180137_... 453                              [A47082185]   \n",
       "                                                   452                              [A49012792]   \n",
       "\n",
       "                                                                       Nombre del Adjudicatario  \\\n",
       "file name                                          entry                                          \n",
       "PlataformasAgregadasSinMenores_20180217_180137_... 453    [CONSTRUCCIONES HERMANOS SASTRE S.A.]   \n",
       "                                                   452    [CONTRATAS Y OBRAS SAN GREGORIO S.A.]   \n",
       "\n",
       "                                                         Importe total ofertado (sin impuestos)  \\\n",
       "file name                                          entry                                          \n",
       "PlataformasAgregadasSinMenores_20180217_180137_... 453                               [60690.08]   \n",
       "                                                   452                              [118919.49]   \n",
       "\n",
       "                                                          Tipo de Procedimiento  \\\n",
       "file name                                          entry                          \n",
       "PlataformasAgregadasSinMenores_20180217_180137_... 453                      1.0   \n",
       "                                                   452                      1.0   \n",
       "\n",
       "                                                         Presentación de Oferta (Fecha)  \\\n",
       "file name                                          entry                                  \n",
       "PlataformasAgregadasSinMenores_20180217_180137_... 453                       2017-11-02   \n",
       "                                                   452                       2017-11-02   \n",
       "\n",
       "                                                         Presentación de Oferta (Hora)  \\\n",
       "file name                                          entry                                 \n",
       "PlataformasAgregadasSinMenores_20180217_180137_... 453                        23:59:00   \n",
       "                                                   452                        23:59:00   \n",
       "\n",
       "                                                         Pliego de cláusulas administrativas  \\\n",
       "file name                                          entry                                       \n",
       "PlataformasAgregadasSinMenores_20180217_180137_... 453                                  <NA>   \n",
       "                                                   452                                  <NA>   \n",
       "\n",
       "                                                         Pliego de cláusulas administrativas (URI)  \\\n",
       "file name                                          entry                                             \n",
       "PlataformasAgregadasSinMenores_20180217_180137_... 453                                        <NA>   \n",
       "                                                   452                                        <NA>   \n",
       "\n",
       "                                                         Tipo de Anuncio  \\\n",
       "file name                                          entry                   \n",
       "PlataformasAgregadasSinMenores_20180217_180137_... 453        [DOC_FORM]   \n",
       "                                                   452        [DOC_FORM]   \n",
       "\n",
       "                                                                                       Medio de Publicación  \\\n",
       "file name                                          entry                                                      \n",
       "PlataformasAgregadasSinMenores_20180217_180137_... 453    [Publicación del anuncio de formalización en u...   \n",
       "                                                   452    [Publicación del anuncio de formalización en u...   \n",
       "\n",
       "                                                         Fecha de Publicación  \\\n",
       "file name                                          entry                        \n",
       "PlataformasAgregadasSinMenores_20180217_180137_... 453           [2018-01-02]   \n",
       "                                                   452           [2018-01-02]   \n",
       "\n",
       "                                                         Ubicación orgánica  \\\n",
       "file name                                          entry                      \n",
       "PlataformasAgregadasSinMenores_20180217_180137_... 453                 <NA>   \n",
       "                                                   452                 <NA>   \n",
       "\n",
       "                                                         Presentación de Solicitudes (Fecha)  \\\n",
       "file name                                          entry                                       \n",
       "PlataformasAgregadasSinMenores_20180217_180137_... 453                            2017-11-02   \n",
       "                                                   452                            2017-11-02   \n",
       "\n",
       "                                                         Presentación de Solicitudes (Hora)  \\\n",
       "file name                                          entry                                      \n",
       "PlataformasAgregadasSinMenores_20180217_180137_... 453                             23:59:00   \n",
       "                                                   452                             23:59:00   \n",
       "\n",
       "                                                         Pliego de Prescripciones técnicas  \\\n",
       "file name                                          entry                                     \n",
       "PlataformasAgregadasSinMenores_20180217_180137_... 453                                <NA>   \n",
       "                                                   452                                <NA>   \n",
       "\n",
       "                                                         Pliego de Prescripciones técnicas (URI)  \\\n",
       "file name                                          entry                                           \n",
       "PlataformasAgregadasSinMenores_20180217_180137_... 453                                      <NA>   \n",
       "                                                   452                                      <NA>   \n",
       "\n",
       "                                                         ContractFolderStatus - LocatedContractingParty - ParentLocatedParty - ParentLocatedParty - PartyName - Name  \\\n",
       "file name                                          entry                                                                                                               \n",
       "PlataformasAgregadasSinMenores_20180217_180137_... 453                                                 <NA>                                                            \n",
       "                                                   452                                                 <NA>                                                            \n",
       "\n",
       "                                                         Plazo de Ejecución (Comienzo)  \\\n",
       "file name                                          entry                                 \n",
       "PlataformasAgregadasSinMenores_20180217_180137_... 453                            <NA>   \n",
       "                                                   452                            <NA>   \n",
       "\n",
       "                                                         Plazo de Ejecución (Fin)  \\\n",
       "file name                                          entry                            \n",
       "PlataformasAgregadasSinMenores_20180217_180137_... 453                       <NA>   \n",
       "                                                   452                       <NA>   \n",
       "\n",
       "                                                                 ID   Lote  \\\n",
       "file name                                          entry                     \n",
       "PlataformasAgregadasSinMenores_20180217_180137_... 453    L02000047  [1.0]   \n",
       "                                                   452    L02000047  [1.0]   \n",
       "\n",
       "                                                         ContractFolderStatus - LocatedContractingParty - ParentLocatedParty - ParentLocatedParty - ParentLocatedParty - PartyName - Name  \\\n",
       "file name                                          entry                                                                                                                                    \n",
       "PlataformasAgregadasSinMenores_20180217_180137_... 453                                                 <NA>                                                                                 \n",
       "                                                   452                                                 <NA>                                                                                 \n",
       "\n",
       "                                                            Presentación de Oferta  \\\n",
       "file name                                          entry                             \n",
       "PlataformasAgregadasSinMenores_20180217_180137_... 453   2017-11-02 23:59:00+00:00   \n",
       "                                                   452   2017-11-02 23:59:00+00:00   \n",
       "\n",
       "                                                         ContractFolderStatus - LocatedContractingParty - ParentLocatedParty - ParentLocatedParty - ParentLocatedParty - ParentLocatedParty - PartyName - Name  \\\n",
       "file name                                          entry                                                                                                                                                         \n",
       "PlataformasAgregadasSinMenores_20180217_180137_... 453                                                 <NA>                                                                                                      \n",
       "                                                   452                                                 <NA>                                                                                                      \n",
       "\n",
       "                                                         Presentación de Oferta (Observaciones)  \\\n",
       "file name                                          entry                                          \n",
       "PlataformasAgregadasSinMenores_20180217_180137_... 453                                     <NA>   \n",
       "                                                   452                                     <NA>   \n",
       "\n",
       "                                                         URL perfil de contratante  \\\n",
       "file name                                          entry                             \n",
       "PlataformasAgregadasSinMenores_20180217_180137_... 453                        <NA>   \n",
       "                                                   452                        <NA>   \n",
       "\n",
       "                                                         deleted_on  \n",
       "file name                                          entry             \n",
       "PlataformasAgregadasSinMenores_20180217_180137_... 453          NaT  \n",
       "                                                   452          NaT  "
      ]
     },
     "execution_count": 17,
     "metadata": {},
     "output_type": "execute_result"
    }
   ],
   "source": [
    "flattened_res_df = dlsproc.hier.flatten_columns_names(res_df, data_scheme)\n",
    "flattened_res_df.head(2)"
   ]
  },
  {
   "cell_type": "code",
   "execution_count": 20,
   "metadata": {},
   "outputs": [],
   "source": [
    "flattened_res_df.to_parquet(output_file.with_stem('agregados_sin_menores_multiindex_plano'))"
   ]
  }
 ],
 "metadata": {
  "kernelspec": {
   "display_name": "Python 3 (ipykernel)",
   "language": "python",
   "name": "python3"
  },
  "language_info": {
   "codemirror_mode": {
    "name": "ipython",
    "version": 3
   },
   "file_extension": ".py",
   "mimetype": "text/x-python",
   "name": "python",
   "nbconvert_exporter": "python",
   "pygments_lexer": "ipython3",
   "version": "3.10.4"
  }
 },
 "nbformat": 4,
 "nbformat_minor": 4
}
