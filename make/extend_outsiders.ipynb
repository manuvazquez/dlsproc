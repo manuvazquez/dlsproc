{
 "cells": [
  {
   "cell_type": "code",
   "execution_count": null,
   "metadata": {},
   "outputs": [],
   "source": [
    "import pathlib\n",
    "import shutil\n",
    "\n",
    "import pandas as pd\n",
    "import yaml\n",
    "\n",
    "import dlsproc.extend\n",
    "import dlsproc.hier"
   ]
  },
  {
   "cell_type": "markdown",
   "metadata": {},
   "source": [
    "So that *all* the columns of a `pd.DataFrame` are shown:"
   ]
  },
  {
   "cell_type": "code",
   "execution_count": null,
   "metadata": {},
   "outputs": [],
   "source": [
    "pd.set_option('display.max_columns', None)"
   ]
  },
  {
   "cell_type": "markdown",
   "metadata": {},
   "source": [
    "# Directories"
   ]
  },
  {
   "cell_type": "markdown",
   "metadata": {},
   "source": [
    "The directory containing downloaded data:"
   ]
  },
  {
   "cell_type": "code",
   "execution_count": null,
   "metadata": {},
   "outputs": [
    {
     "name": "stdout",
     "output_type": "stream",
     "text": [
      "/home/manu/dlsproc/data/agregados\n"
     ]
    }
   ],
   "source": [
    "data_directory = pathlib.Path.cwd().parent / 'data' / 'agregados'\n",
    "assert data_directory.exists()\n",
    "print(data_directory)"
   ]
  },
  {
   "cell_type": "markdown",
   "metadata": {},
   "source": [
    "A `list` with all the *zip* files that are to be processed"
   ]
  },
  {
   "cell_type": "code",
   "execution_count": null,
   "metadata": {},
   "outputs": [
    {
     "data": {
      "text/plain": [
       "[PosixPath('/home/manu/dlsproc/data/agregados/PlataformasAgregadasSinMenores_202201.zip'),\n",
       " PosixPath('/home/manu/dlsproc/data/agregados/PlataformasAgregadasSinMenores_202202.zip'),\n",
       " PosixPath('/home/manu/dlsproc/data/agregados/PlataformasAgregadasSinMenores_202203.zip'),\n",
       " PosixPath('/home/manu/dlsproc/data/agregados/PlataformasAgregadasSinMenores_202204.zip'),\n",
       " PosixPath('/home/manu/dlsproc/data/agregados/PlataformasAgregadasSinMenores_202205.zip'),\n",
       " PosixPath('/home/manu/dlsproc/data/agregados/PlataformasAgregadasSinMenores_202206.zip')]"
      ]
     },
     "execution_count": null,
     "metadata": {},
     "output_type": "execute_result"
    }
   ],
   "source": [
    "new_zip_files = sorted(data_directory.glob('PlataformasAgregadasSinMenores_2022*.zip'))\n",
    "new_zip_files"
   ]
  },
  {
   "cell_type": "markdown",
   "metadata": {},
   "source": [
    "The final output file"
   ]
  },
  {
   "cell_type": "code",
   "execution_count": null,
   "metadata": {},
   "outputs": [
    {
     "data": {
      "text/plain": [
       "PosixPath('/home/manu/dlsproc/data/agregados/agregados_sin_menores_multiindex.parquet')"
      ]
     },
     "execution_count": null,
     "metadata": {},
     "output_type": "execute_result"
    }
   ],
   "source": [
    "output_file = data_directory / 'agregados_sin_menores_multiindex.parquet'\n",
    "output_file"
   ]
  },
  {
   "cell_type": "markdown",
   "metadata": {},
   "source": [
    "The historical file (in *parquet* format)"
   ]
  },
  {
   "cell_type": "code",
   "execution_count": null,
   "metadata": {},
   "outputs": [
    {
     "name": "stdout",
     "output_type": "stream",
     "text": [
      "history_file=PosixPath('/home/manu/dlsproc/data/agregados/2018-2021.parquet')\n"
     ]
    }
   ],
   "source": [
    "# history_file = pathlib.Path.cwd().parent / 'make' / '2018-2021.parquet'\n",
    "history_file = data_directory / '2018-2021.parquet'\n",
    "assert history_file.exists()\n",
    "print(f'{history_file=}')"
   ]
  },
  {
   "cell_type": "markdown",
   "metadata": {},
   "source": [
    "# Files"
   ]
  },
  {
   "cell_type": "markdown",
   "metadata": {},
   "source": [
    "The output file is in the beginning a copy of the *history file*"
   ]
  },
  {
   "cell_type": "code",
   "execution_count": null,
   "metadata": {},
   "outputs": [
    {
     "data": {
      "text/plain": [
       "PosixPath('/home/manu/dlsproc/data/agregados/agregados_sin_menores_multiindex.parquet')"
      ]
     },
     "execution_count": null,
     "metadata": {},
     "output_type": "execute_result"
    }
   ],
   "source": [
    "shutil.copy(history_file, output_file)"
   ]
  },
  {
   "cell_type": "code",
   "execution_count": null,
   "metadata": {},
   "outputs": [
    {
     "name": "stdout",
     "output_type": "stream",
     "text": [
      "appending /home/manu/dlsproc/data/agregados/PlataformasAgregadasSinMenores_202201.zip\n",
      "appending /home/manu/dlsproc/data/agregados/PlataformasAgregadasSinMenores_202202.zip\n",
      "appending /home/manu/dlsproc/data/agregados/PlataformasAgregadasSinMenores_202203.zip\n",
      "appending /home/manu/dlsproc/data/agregados/PlataformasAgregadasSinMenores_202204.zip\n",
      "appending /home/manu/dlsproc/data/agregados/PlataformasAgregadasSinMenores_202205.zip\n",
      "appending /home/manu/dlsproc/data/agregados/PlataformasAgregadasSinMenores_202206.zip\n"
     ]
    }
   ],
   "source": [
    "for i, zip_file in enumerate(new_zip_files):\n",
    "    print(f'appending {zip_file}')\n",
    "    dlsproc.extend.parquet_with_zip(output_file, zip_file, output_file)"
   ]
  },
  {
   "cell_type": "code",
   "execution_count": null,
   "metadata": {},
   "outputs": [
    {
     "name": "stdout",
     "output_type": "stream",
     "text": [
      "2018-2021.parquet\n",
      "2018-2021.pickle\n",
      "agregados_sin_menores_multiindex.parquet\n",
      "\u001b[0m\u001b[01;31mPlataformasAgregadasSinMenores_2018.zip\u001b[0m\n",
      "\u001b[01;31mPlataformasAgregadasSinMenores_2019.zip\u001b[0m\n",
      "\u001b[01;31mPlataformasAgregadasSinMenores_2020.zip\u001b[0m\n",
      "\u001b[01;31mPlataformasAgregadasSinMenores_2021.zip\u001b[0m\n",
      "\u001b[01;31mPlataformasAgregadasSinMenores_202201.zip\u001b[0m\n",
      "\u001b[01;31mPlataformasAgregadasSinMenores_202202.zip\u001b[0m\n",
      "\u001b[01;31mPlataformasAgregadasSinMenores_202203.zip\u001b[0m\n",
      "\u001b[01;31mPlataformasAgregadasSinMenores_202204.zip\u001b[0m\n",
      "\u001b[01;31mPlataformasAgregadasSinMenores_202205.zip\u001b[0m\n",
      "\u001b[01;31mPlataformasAgregadasSinMenores_202206.zip\u001b[0m\n",
      "\u001b[01;34mtmp\u001b[0m/\n"
     ]
    }
   ],
   "source": [
    "%ls {output_file.parent}"
   ]
  },
  {
   "cell_type": "code",
   "execution_count": null,
   "metadata": {},
   "outputs": [
    {
     "data": {
      "text/plain": [
       "(207088, 43)"
      ]
     },
     "execution_count": null,
     "metadata": {},
     "output_type": "execute_result"
    }
   ],
   "source": [
    "res_df = pd.read_parquet(output_file)\n",
    "res_df.shape"
   ]
  },
  {
   "cell_type": "markdown",
   "metadata": {},
   "source": [
    "A mapping between columns and *human-readable* fields can be found [here](***REMOVED***). The latter was processed in `naming.ipynb` to get the file below."
   ]
  },
  {
   "cell_type": "code",
   "execution_count": null,
   "metadata": {},
   "outputs": [],
   "source": [
    "# data_scheme_file = pathlib.Path.cwd() / 'samples' / 'PLACE.yaml'\n",
    "# assert data_scheme_file.exists()"
   ]
  },
  {
   "cell_type": "markdown",
   "metadata": {},
   "source": [
    "It provides (as a `dict`) a mapping from *human-readable* names to (maybe nested) fields in *Atom* files"
   ]
  },
  {
   "cell_type": "code",
   "execution_count": null,
   "metadata": {},
   "outputs": [],
   "source": [
    "# with open(data_scheme_file) as yaml_data:\n",
    "#     data_scheme = yaml.load(yaml_data, Loader=yaml.FullLoader)"
   ]
  },
  {
   "cell_type": "code",
   "execution_count": null,
   "metadata": {},
   "outputs": [],
   "source": [
    "# dlsproc.hier.flatten_columns_names(df, data_scheme)"
   ]
  }
 ],
 "metadata": {
  "kernelspec": {
   "display_name": "Python 3 (ipykernel)",
   "language": "python",
   "name": "python3"
  }
 },
 "nbformat": 4,
 "nbformat_minor": 4
}
