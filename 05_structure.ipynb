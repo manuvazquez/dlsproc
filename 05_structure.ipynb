{
 "cells": [
  {
   "cell_type": "code",
   "execution_count": null,
   "id": "db2da76a-b7eb-4bd1-9f47-4410b54bf509",
   "metadata": {},
   "outputs": [],
   "source": [
    "# default_exp structure"
   ]
  },
  {
   "cell_type": "markdown",
   "id": "aa155fc2-dd87-4e1b-abc7-28e5a0c6cf3b",
   "metadata": {},
   "source": [
    "# structure\n",
    "\n",
    "> Basic functionality related to the structure of the (XML) data"
   ]
  },
  {
   "cell_type": "code",
   "execution_count": null,
   "id": "c01b2cdb-0c51-4e35-a142-f44100846a79",
   "metadata": {},
   "outputs": [],
   "source": [
    "# export\n",
    "import re\n",
    "\n",
    "import pandas as pd"
   ]
  },
  {
   "cell_type": "markdown",
   "id": "71a4aa37-554c-4704-8f34-dbd732b36878",
   "metadata": {},
   "source": [
    "## Nested tags"
   ]
  },
  {
   "cell_type": "markdown",
   "id": "3b0c5e04-a2eb-424c-89f8-56abca403b46",
   "metadata": {},
   "source": [
    "When two a *tag* is nested inside other *tag* the string below is used to assemble the name of the resulting *column* from those of the original tags"
   ]
  },
  {
   "cell_type": "code",
   "execution_count": null,
   "id": "44cbdbf9-2051-471b-812d-85d976742b53",
   "metadata": {},
   "outputs": [],
   "source": [
    "# export\n",
    "nested_tags_separator = ' - '"
   ]
  },
  {
   "cell_type": "markdown",
   "id": "6f5dc7c4-85df-475d-afef-3f5a08c73d7f",
   "metadata": {},
   "source": [
    "For instance, a *tag* `<month>` inside a *tag* `<date>` will yield a *column*"
   ]
  },
  {
   "cell_type": "code",
   "execution_count": null,
   "id": "6a989a09-0fd7-4024-ac19-f8748235a6ff",
   "metadata": {},
   "outputs": [
    {
     "data": {
      "text/plain": [
       "'month - date'"
      ]
     },
     "execution_count": null,
     "metadata": {},
     "output_type": "execute_result"
    }
   ],
   "source": [
    "f'month{nested_tags_separator}date'"
   ]
  },
  {
   "cell_type": "markdown",
   "id": "b1a7d20e-9195-4b35-9bb2-969e880d60f1",
   "metadata": {},
   "source": [
    "A high-level function to do exactly that"
   ]
  },
  {
   "cell_type": "code",
   "execution_count": null,
   "id": "7c218b05-50cb-45aa-bf93-b384e092dacf",
   "metadata": {},
   "outputs": [],
   "source": [
    "# export\n",
    "def assemble_name(tags: list) -> str:\n",
    "    \"\"\"\n",
    "    Assemble the name of field/column in the DataFrame from a path of nested tags.\n",
    "    \n",
    "    **Parameters**\n",
    "    \n",
    "    - tags: list\n",
    "    \n",
    "        List of tags.\n",
    "    \n",
    "    **Returns**\n",
    "    \n",
    "    - out: str\n",
    "    \n",
    "        A suitable name.\n",
    "    \n",
    "    \"\"\"\n",
    "    \n",
    "    tags = filter(pd.notna, tags)\n",
    "    tags = filter(lambda x: x!='', tags)\n",
    "    \n",
    "    return nested_tags_separator.join(tags)"
   ]
  },
  {
   "cell_type": "code",
   "execution_count": null,
   "id": "9ef6a82c-2479-4b7b-bb79-155e8f38ea59",
   "metadata": {},
   "outputs": [
    {
     "data": {
      "text/plain": [
       "'foo - fa'"
      ]
     },
     "execution_count": null,
     "metadata": {},
     "output_type": "execute_result"
    }
   ],
   "source": [
    "assemble_name(['foo', 'fa'])"
   ]
  },
  {
   "cell_type": "markdown",
   "id": "a4a07e8e-4a02-4553-a5f6-a19a7649baad",
   "metadata": {},
   "source": [
    "`NaN`s are ignored..."
   ]
  },
  {
   "cell_type": "code",
   "execution_count": null,
   "id": "7aa9e373-8422-46d6-922f-d0c3413f08c0",
   "metadata": {},
   "outputs": [
    {
     "data": {
      "text/plain": [
       "'foo'"
      ]
     },
     "execution_count": null,
     "metadata": {},
     "output_type": "execute_result"
    }
   ],
   "source": [
    "assemble_name(['foo', np.nan])"
   ]
  },
  {
   "cell_type": "markdown",
   "id": "df090688-5eb2-433b-b072-8916930b7078",
   "metadata": {},
   "source": [
    "...and so are empty strings"
   ]
  },
  {
   "cell_type": "code",
   "execution_count": null,
   "id": "4b137a9a-6f40-458a-b584-72d6cd44403e",
   "metadata": {},
   "outputs": [
    {
     "data": {
      "text/plain": [
       "'foo'"
      ]
     },
     "execution_count": null,
     "metadata": {},
     "output_type": "execute_result"
    }
   ],
   "source": [
    "assemble_name(['foo', np.nan, ''])"
   ]
  },
  {
   "cell_type": "code",
   "execution_count": null,
   "id": "c8a68994-0c97-4a3f-911f-440615fb606e",
   "metadata": {},
   "outputs": [
    {
     "name": "stdout",
     "output_type": "stream",
     "text": [
      "Converted 05_structure.ipynb.\n"
     ]
    }
   ],
   "source": [
    "# hide\n",
    "import nbdev.export\n",
    "nbdev.export.notebook2script('05_structure.ipynb')"
   ]
  }
 ],
 "metadata": {
  "kernelspec": {
   "display_name": "Python 3 (ipykernel)",
   "language": "python",
   "name": "python3"
  }
 },
 "nbformat": 4,
 "nbformat_minor": 5
}
