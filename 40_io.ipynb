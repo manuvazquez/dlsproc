{
 "cells": [
  {
   "cell_type": "code",
   "execution_count": null,
   "id": "7b233ca6-6157-46d1-b230-086568ec6427",
   "metadata": {},
   "outputs": [],
   "source": [
    "# default_exp io"
   ]
  },
  {
   "cell_type": "markdown",
   "id": "7b53a524-5347-46de-b965-f857cc91a393",
   "metadata": {},
   "source": [
    "# io\n",
    "\n",
    "> Saving/loading data"
   ]
  },
  {
   "cell_type": "markdown",
   "id": "28b99de6-453a-493f-b64b-09be3bed4f58",
   "metadata": {},
   "source": [
    "Directory where the data (*XML* files) are stored"
   ]
  },
  {
   "cell_type": "code",
   "execution_count": null,
   "id": "fa9d12b2-c630-40c4-926b-d2e83a0a8dc9",
   "metadata": {},
   "outputs": [],
   "source": [
    "# export\n",
    "import pathlib\n",
    "\n",
    "import pandas as pd\n",
    "\n",
    "import dlsproc.xml"
   ]
  },
  {
   "cell_type": "code",
   "execution_count": null,
   "id": "00682f2d-6641-4618-ac1b-ddcdfd988039",
   "metadata": {},
   "outputs": [
    {
     "data": {
      "text/plain": [
       "PosixPath('/export/usuarios01/mvazquez/dlsproc/samples')"
      ]
     },
     "execution_count": null,
     "metadata": {},
     "output_type": "execute_result"
    }
   ],
   "source": [
    "directory = pathlib.Path.cwd() / 'samples'\n",
    "assert directory.exists()\n",
    "directory"
   ]
  },
  {
   "cell_type": "markdown",
   "id": "87e0ab46-cad5-4e0f-af67-fa2a1ecada64",
   "metadata": {},
   "source": [
    "A (sample) file in that directory"
   ]
  },
  {
   "cell_type": "code",
   "execution_count": null,
   "id": "a37e129f-21e3-4d61-837d-e33231afbe2a",
   "metadata": {},
   "outputs": [
    {
     "data": {
      "text/plain": [
       "PosixPath('/export/usuarios01/mvazquez/dlsproc/samples/PlataformasAgregadasSinMenores_20220104_030016_1.atom')"
      ]
     },
     "execution_count": null,
     "metadata": {},
     "output_type": "execute_result"
    }
   ],
   "source": [
    "xml_file = directory / 'PlataformasAgregadasSinMenores_20220104_030016_1.atom'\n",
    "assert xml_file.exists()\n",
    "xml_file"
   ]
  },
  {
   "cell_type": "code",
   "execution_count": null,
   "id": "5cb45e88-3e37-48ca-95fe-f3880956c933",
   "metadata": {},
   "outputs": [
    {
     "data": {
      "text/html": [
       "<div>\n",
       "<style scoped>\n",
       "    .dataframe tbody tr th:only-of-type {\n",
       "        vertical-align: middle;\n",
       "    }\n",
       "\n",
       "    .dataframe tbody tr th {\n",
       "        vertical-align: top;\n",
       "    }\n",
       "\n",
       "    .dataframe thead th {\n",
       "        text-align: right;\n",
       "    }\n",
       "</style>\n",
       "<table border=\"1\" class=\"dataframe\">\n",
       "  <thead>\n",
       "    <tr style=\"text-align: right;\">\n",
       "      <th></th>\n",
       "      <th>id</th>\n",
       "      <th>summary</th>\n",
       "      <th>title</th>\n",
       "      <th>updated</th>\n",
       "      <th>ContractFolderStatus - ContractFolderID</th>\n",
       "      <th>ContractFolderStatus - ContractFolderStatusCode</th>\n",
       "      <th>ContractFolderStatus - LocatedContractingParty - BuyerProfileURIID</th>\n",
       "      <th>ContractFolderStatus - LocatedContractingParty - Party - PartyName - Name</th>\n",
       "      <th>ContractFolderStatus - LocatedContractingParty - ParentLocatedParty - PartyName - Name</th>\n",
       "      <th>ContractFolderStatus - ProcurementProject - Name</th>\n",
       "      <th>...</th>\n",
       "      <th>ContractFolderStatus - LegalDocumentReference - Attachment - ExternalReference - URI</th>\n",
       "      <th>ContractFolderStatus - TechnicalDocumentReference - ID</th>\n",
       "      <th>ContractFolderStatus - TechnicalDocumentReference - Attachment - ExternalReference - URI</th>\n",
       "      <th>ContractFolderStatus - ProcurementProject - PlannedPeriod - StartDate</th>\n",
       "      <th>ContractFolderStatus - ProcurementProject - PlannedPeriod - EndDate</th>\n",
       "      <th>ContractFolderStatus - LocatedContractingParty - Party - PartyIdentification - ID</th>\n",
       "      <th>ContractFolderStatus - LocatedContractingParty - ParentLocatedParty - ParentLocatedParty - PartyName - Name</th>\n",
       "      <th>ContractFolderStatus - TenderingProcess - ParticipationRequestReceptionPeriod - EndDate</th>\n",
       "      <th>ContractFolderStatus - TenderingProcess - ParticipationRequestReceptionPeriod - EndTime</th>\n",
       "      <th>ContractFolderStatus - TenderResult - AwardedTenderedProject - ProcurementProjectLotID</th>\n",
       "    </tr>\n",
       "  </thead>\n",
       "  <tbody>\n",
       "    <tr>\n",
       "      <th>0</th>\n",
       "      <td>https://contrataciondelestado.es/sindicacion/P...</td>\n",
       "      <td>Id licitación: C. 2-2021; Órgano de Contrataci...</td>\n",
       "      <td>L'objecte del contracte és la renovació de tot...</td>\n",
       "      <td>2022-01-03T01:11:41.826+01:00</td>\n",
       "      <td>C. 2-2021</td>\n",
       "      <td>ADJ</td>\n",
       "      <td>https://contractaciopublica.gencat.cat/ecofin_...</td>\n",
       "      <td>Ajuntament de Sant Ramon</td>\n",
       "      <td>Entitats municipals de Catalunya</td>\n",
       "      <td>L'objecte del contracte és la renovació de tot...</td>\n",
       "      <td>...</td>\n",
       "      <td>NaN</td>\n",
       "      <td>NaN</td>\n",
       "      <td>NaN</td>\n",
       "      <td>NaN</td>\n",
       "      <td>NaN</td>\n",
       "      <td>NaN</td>\n",
       "      <td>NaN</td>\n",
       "      <td>NaN</td>\n",
       "      <td>NaN</td>\n",
       "      <td>NaN</td>\n",
       "    </tr>\n",
       "    <tr>\n",
       "      <th>1</th>\n",
       "      <td>https://contrataciondelestado.es/sindicacion/P...</td>\n",
       "      <td>Id licitación: 8128_3/2021; Órgano de Contrata...</td>\n",
       "      <td>Obras de restauración hidromorfológica del río...</td>\n",
       "      <td>2022-01-03T01:00:11.194+01:00</td>\n",
       "      <td>8128_3/2021</td>\n",
       "      <td>PUB</td>\n",
       "      <td>NaN</td>\n",
       "      <td>Pleno del Ayuntamiento</td>\n",
       "      <td>AYUNTAMIENTO DE MONREAL</td>\n",
       "      <td>Obras de restauración hidromorfológica del río...</td>\n",
       "      <td>...</td>\n",
       "      <td>NaN</td>\n",
       "      <td>NaN</td>\n",
       "      <td>NaN</td>\n",
       "      <td>NaN</td>\n",
       "      <td>NaN</td>\n",
       "      <td>NaN</td>\n",
       "      <td>NaN</td>\n",
       "      <td>NaN</td>\n",
       "      <td>NaN</td>\n",
       "      <td>NaN</td>\n",
       "    </tr>\n",
       "    <tr>\n",
       "      <th>2</th>\n",
       "      <td>https://contrataciondelestado.es/sindicacion/P...</td>\n",
       "      <td>Id licitación: 1000_0005-CP01-2021-000063; Órg...</td>\n",
       "      <td>Contrato del servicio de realización de labore...</td>\n",
       "      <td>2022-01-03T01:00:10.399+01:00</td>\n",
       "      <td>1000_0005-CP01-2021-000063</td>\n",
       "      <td>EV</td>\n",
       "      <td>NaN</td>\n",
       "      <td>El Director General de Comunicación y Relacion...</td>\n",
       "      <td>Departamento de Presidencia, Igualdad, Función...</td>\n",
       "      <td>Contrato del servicio de realización de labore...</td>\n",
       "      <td>...</td>\n",
       "      <td>NaN</td>\n",
       "      <td>NaN</td>\n",
       "      <td>NaN</td>\n",
       "      <td>NaN</td>\n",
       "      <td>NaN</td>\n",
       "      <td>NaN</td>\n",
       "      <td>NaN</td>\n",
       "      <td>NaN</td>\n",
       "      <td>NaN</td>\n",
       "      <td>NaN</td>\n",
       "    </tr>\n",
       "    <tr>\n",
       "      <th>3</th>\n",
       "      <td>https://contrataciondelestado.es/sindicacion/P...</td>\n",
       "      <td>Id licitación: 1379/2020 4738; Órgano de Contr...</td>\n",
       "      <td>Obres de renovació de l'enllumenat públic a la...</td>\n",
       "      <td>2022-01-03T00:11:40.740+01:00</td>\n",
       "      <td>1379/2020 4738</td>\n",
       "      <td>EV</td>\n",
       "      <td>https://contractaciopublica.gencat.cat/ecofin_...</td>\n",
       "      <td>Ajuntament de Canet de Mar</td>\n",
       "      <td>Entitats municipals de Catalunya</td>\n",
       "      <td>Obres de renovació de l'enllumenat públic a la...</td>\n",
       "      <td>...</td>\n",
       "      <td>https://contractaciopublica.gencat.cat/ecofin_...</td>\n",
       "      <td>NaN</td>\n",
       "      <td>NaN</td>\n",
       "      <td>NaN</td>\n",
       "      <td>NaN</td>\n",
       "      <td>NaN</td>\n",
       "      <td>NaN</td>\n",
       "      <td>NaN</td>\n",
       "      <td>NaN</td>\n",
       "      <td>NaN</td>\n",
       "    </tr>\n",
       "    <tr>\n",
       "      <th>4</th>\n",
       "      <td>https://contrataciondelestado.es/sindicacion/P...</td>\n",
       "      <td>Id licitación: 2021-44; Órgano de Contratación...</td>\n",
       "      <td>Subministre i la instal·lació fotovoltaica en ...</td>\n",
       "      <td>2022-01-03T00:11:40.696+01:00</td>\n",
       "      <td>2021-44</td>\n",
       "      <td>EV</td>\n",
       "      <td>https://contractaciopublica.gencat.cat/ecofin_...</td>\n",
       "      <td>Ajuntament de Valls</td>\n",
       "      <td>Entitats municipals de Catalunya</td>\n",
       "      <td>Subministre i la instal·lació fotovoltaica en ...</td>\n",
       "      <td>...</td>\n",
       "      <td>https://contractaciopublica.gencat.cat/ecofin_...</td>\n",
       "      <td>Enllac plec clausules tecniques.doc</td>\n",
       "      <td>https://contractaciopublica.gencat.cat/ecofin_...</td>\n",
       "      <td>NaN</td>\n",
       "      <td>NaN</td>\n",
       "      <td>NaN</td>\n",
       "      <td>NaN</td>\n",
       "      <td>NaN</td>\n",
       "      <td>NaN</td>\n",
       "      <td>NaN</td>\n",
       "    </tr>\n",
       "    <tr>\n",
       "      <th>5</th>\n",
       "      <td>https://contrataciondelestado.es/sindicacion/P...</td>\n",
       "      <td>Id licitación: 2809/2021; Órgano de Contrataci...</td>\n",
       "      <td>Servei de visites i activitats sobre Història ...</td>\n",
       "      <td>2022-01-03T00:11:40.639+01:00</td>\n",
       "      <td>2809/2021</td>\n",
       "      <td>EV</td>\n",
       "      <td>https://contractaciopublica.gencat.cat/ecofin_...</td>\n",
       "      <td>Institut de Cultura de Barcelona</td>\n",
       "      <td>Entitats municipals de Catalunya</td>\n",
       "      <td>Servei de visites i activitats sobre Història ...</td>\n",
       "      <td>...</td>\n",
       "      <td>https://contractaciopublica.gencat.cat/ecofin_...</td>\n",
       "      <td>2809-21 PPT.pdf</td>\n",
       "      <td>https://contractaciopublica.gencat.cat/ecofin_...</td>\n",
       "      <td>NaN</td>\n",
       "      <td>NaN</td>\n",
       "      <td>NaN</td>\n",
       "      <td>NaN</td>\n",
       "      <td>NaN</td>\n",
       "      <td>NaN</td>\n",
       "      <td>NaN</td>\n",
       "    </tr>\n",
       "  </tbody>\n",
       "</table>\n",
       "<p>6 rows × 38 columns</p>\n",
       "</div>"
      ],
      "text/plain": [
       "                                                  id  \\\n",
       "0  https://contrataciondelestado.es/sindicacion/P...   \n",
       "1  https://contrataciondelestado.es/sindicacion/P...   \n",
       "2  https://contrataciondelestado.es/sindicacion/P...   \n",
       "3  https://contrataciondelestado.es/sindicacion/P...   \n",
       "4  https://contrataciondelestado.es/sindicacion/P...   \n",
       "5  https://contrataciondelestado.es/sindicacion/P...   \n",
       "\n",
       "                                             summary  \\\n",
       "0  Id licitación: C. 2-2021; Órgano de Contrataci...   \n",
       "1  Id licitación: 8128_3/2021; Órgano de Contrata...   \n",
       "2  Id licitación: 1000_0005-CP01-2021-000063; Órg...   \n",
       "3  Id licitación: 1379/2020 4738; Órgano de Contr...   \n",
       "4  Id licitación: 2021-44; Órgano de Contratación...   \n",
       "5  Id licitación: 2809/2021; Órgano de Contrataci...   \n",
       "\n",
       "                                               title  \\\n",
       "0  L'objecte del contracte és la renovació de tot...   \n",
       "1  Obras de restauración hidromorfológica del río...   \n",
       "2  Contrato del servicio de realización de labore...   \n",
       "3  Obres de renovació de l'enllumenat públic a la...   \n",
       "4  Subministre i la instal·lació fotovoltaica en ...   \n",
       "5  Servei de visites i activitats sobre Història ...   \n",
       "\n",
       "                         updated ContractFolderStatus - ContractFolderID  \\\n",
       "0  2022-01-03T01:11:41.826+01:00                               C. 2-2021   \n",
       "1  2022-01-03T01:00:11.194+01:00                             8128_3/2021   \n",
       "2  2022-01-03T01:00:10.399+01:00              1000_0005-CP01-2021-000063   \n",
       "3  2022-01-03T00:11:40.740+01:00                          1379/2020 4738   \n",
       "4  2022-01-03T00:11:40.696+01:00                                 2021-44   \n",
       "5  2022-01-03T00:11:40.639+01:00                               2809/2021   \n",
       "\n",
       "  ContractFolderStatus - ContractFolderStatusCode  \\\n",
       "0                                             ADJ   \n",
       "1                                             PUB   \n",
       "2                                              EV   \n",
       "3                                              EV   \n",
       "4                                              EV   \n",
       "5                                              EV   \n",
       "\n",
       "  ContractFolderStatus - LocatedContractingParty - BuyerProfileURIID  \\\n",
       "0  https://contractaciopublica.gencat.cat/ecofin_...                   \n",
       "1                                                NaN                   \n",
       "2                                                NaN                   \n",
       "3  https://contractaciopublica.gencat.cat/ecofin_...                   \n",
       "4  https://contractaciopublica.gencat.cat/ecofin_...                   \n",
       "5  https://contractaciopublica.gencat.cat/ecofin_...                   \n",
       "\n",
       "  ContractFolderStatus - LocatedContractingParty - Party - PartyName - Name  \\\n",
       "0                           Ajuntament de Sant Ramon                          \n",
       "1                             Pleno del Ayuntamiento                          \n",
       "2  El Director General de Comunicación y Relacion...                          \n",
       "3                         Ajuntament de Canet de Mar                          \n",
       "4                                Ajuntament de Valls                          \n",
       "5                   Institut de Cultura de Barcelona                          \n",
       "\n",
       "  ContractFolderStatus - LocatedContractingParty - ParentLocatedParty - PartyName - Name  \\\n",
       "0                   Entitats municipals de Catalunya                                       \n",
       "1                            AYUNTAMIENTO DE MONREAL                                       \n",
       "2  Departamento de Presidencia, Igualdad, Función...                                       \n",
       "3                   Entitats municipals de Catalunya                                       \n",
       "4                   Entitats municipals de Catalunya                                       \n",
       "5                   Entitats municipals de Catalunya                                       \n",
       "\n",
       "    ContractFolderStatus - ProcurementProject - Name  ...  \\\n",
       "0  L'objecte del contracte és la renovació de tot...  ...   \n",
       "1  Obras de restauración hidromorfológica del río...  ...   \n",
       "2  Contrato del servicio de realización de labore...  ...   \n",
       "3  Obres de renovació de l'enllumenat públic a la...  ...   \n",
       "4  Subministre i la instal·lació fotovoltaica en ...  ...   \n",
       "5  Servei de visites i activitats sobre Història ...  ...   \n",
       "\n",
       "  ContractFolderStatus - LegalDocumentReference - Attachment - ExternalReference - URI  \\\n",
       "0                                                NaN                                     \n",
       "1                                                NaN                                     \n",
       "2                                                NaN                                     \n",
       "3  https://contractaciopublica.gencat.cat/ecofin_...                                     \n",
       "4  https://contractaciopublica.gencat.cat/ecofin_...                                     \n",
       "5  https://contractaciopublica.gencat.cat/ecofin_...                                     \n",
       "\n",
       "  ContractFolderStatus - TechnicalDocumentReference - ID  \\\n",
       "0                                                NaN       \n",
       "1                                                NaN       \n",
       "2                                                NaN       \n",
       "3                                                NaN       \n",
       "4                Enllac plec clausules tecniques.doc       \n",
       "5                                    2809-21 PPT.pdf       \n",
       "\n",
       "  ContractFolderStatus - TechnicalDocumentReference - Attachment - ExternalReference - URI  \\\n",
       "0                                                NaN                                         \n",
       "1                                                NaN                                         \n",
       "2                                                NaN                                         \n",
       "3                                                NaN                                         \n",
       "4  https://contractaciopublica.gencat.cat/ecofin_...                                         \n",
       "5  https://contractaciopublica.gencat.cat/ecofin_...                                         \n",
       "\n",
       "  ContractFolderStatus - ProcurementProject - PlannedPeriod - StartDate  \\\n",
       "0                                                NaN                      \n",
       "1                                                NaN                      \n",
       "2                                                NaN                      \n",
       "3                                                NaN                      \n",
       "4                                                NaN                      \n",
       "5                                                NaN                      \n",
       "\n",
       "  ContractFolderStatus - ProcurementProject - PlannedPeriod - EndDate  \\\n",
       "0                                                NaN                    \n",
       "1                                                NaN                    \n",
       "2                                                NaN                    \n",
       "3                                                NaN                    \n",
       "4                                                NaN                    \n",
       "5                                                NaN                    \n",
       "\n",
       "  ContractFolderStatus - LocatedContractingParty - Party - PartyIdentification - ID  \\\n",
       "0                                                NaN                                  \n",
       "1                                                NaN                                  \n",
       "2                                                NaN                                  \n",
       "3                                                NaN                                  \n",
       "4                                                NaN                                  \n",
       "5                                                NaN                                  \n",
       "\n",
       "  ContractFolderStatus - LocatedContractingParty - ParentLocatedParty - ParentLocatedParty - PartyName - Name  \\\n",
       "0                                                NaN                                                            \n",
       "1                                                NaN                                                            \n",
       "2                                                NaN                                                            \n",
       "3                                                NaN                                                            \n",
       "4                                                NaN                                                            \n",
       "5                                                NaN                                                            \n",
       "\n",
       "  ContractFolderStatus - TenderingProcess - ParticipationRequestReceptionPeriod - EndDate  \\\n",
       "0                                                NaN                                        \n",
       "1                                                NaN                                        \n",
       "2                                                NaN                                        \n",
       "3                                                NaN                                        \n",
       "4                                                NaN                                        \n",
       "5                                                NaN                                        \n",
       "\n",
       "  ContractFolderStatus - TenderingProcess - ParticipationRequestReceptionPeriod - EndTime  \\\n",
       "0                                                NaN                                        \n",
       "1                                                NaN                                        \n",
       "2                                                NaN                                        \n",
       "3                                                NaN                                        \n",
       "4                                                NaN                                        \n",
       "5                                                NaN                                        \n",
       "\n",
       "  ContractFolderStatus - TenderResult - AwardedTenderedProject - ProcurementProjectLotID  \n",
       "0                                                NaN                                      \n",
       "1                                                NaN                                      \n",
       "2                                                NaN                                      \n",
       "3                                                NaN                                      \n",
       "4                                                NaN                                      \n",
       "5                                                NaN                                      \n",
       "\n",
       "[6 rows x 38 columns]"
      ]
     },
     "execution_count": null,
     "metadata": {},
     "output_type": "execute_result"
    }
   ],
   "source": [
    "df = dlsproc.xml.to_df(xml_file)\n",
    "df.head(6)"
   ]
  },
  {
   "cell_type": "markdown",
   "id": "71a2983a-bf6e-4fbe-b89d-b240da673976",
   "metadata": {},
   "source": [
    "Below, it is required that no extension is provided for the file"
   ]
  },
  {
   "cell_type": "code",
   "execution_count": null,
   "id": "e5df99bc-5af1-4e7c-9283-642dd442ac11",
   "metadata": {},
   "outputs": [
    {
     "data": {
      "text/plain": [
       "False"
      ]
     },
     "execution_count": null,
     "metadata": {},
     "output_type": "execute_result"
    }
   ],
   "source": [
    "file = pathlib.Path('data.txt')\n",
    "file.suffix == ''"
   ]
  },
  {
   "cell_type": "code",
   "execution_count": null,
   "id": "18023328-5191-4c3a-89ea-ba31aa85d3ad",
   "metadata": {},
   "outputs": [
    {
     "data": {
      "text/plain": [
       "True"
      ]
     },
     "execution_count": null,
     "metadata": {},
     "output_type": "execute_result"
    }
   ],
   "source": [
    "file = pathlib.Path('data')\n",
    "file.suffix == ''"
   ]
  },
  {
   "cell_type": "markdown",
   "id": "91eee8da-1031-496d-8aaf-9d548944abc3",
   "metadata": {},
   "source": [
    "## Saving"
   ]
  },
  {
   "cell_type": "code",
   "execution_count": null,
   "id": "69308d6e-6ea3-42e3-8e41-07a6d6cc5aaf",
   "metadata": {},
   "outputs": [],
   "source": [
    "# export\n",
    "def save_df(df: pd.DataFrame, output_file: str | pathlib.Path):\n",
    "    \n",
    "    output_file = pathlib.Path(output_file)\n",
    "    \n",
    "    output_file.suffix == '', 'an extension-less file is expected'\n",
    "    \n",
    "    df.to_pickle(output_file.with_suffix('.pickle'))"
   ]
  },
  {
   "cell_type": "code",
   "execution_count": null,
   "id": "49177ea9-e460-4f57-a8df-0a02eeda8c57",
   "metadata": {},
   "outputs": [],
   "source": [
    "saved_file = pathlib.Path('tmp')"
   ]
  },
  {
   "cell_type": "code",
   "execution_count": null,
   "id": "021d5954-932b-4ac6-8404-4686b0b26b0a",
   "metadata": {},
   "outputs": [],
   "source": [
    "save_df(df, saved_file)"
   ]
  },
  {
   "cell_type": "markdown",
   "id": "92e8b730-55bb-44c4-b802-43c62d17a3d0",
   "metadata": {},
   "source": [
    "## Loading"
   ]
  },
  {
   "cell_type": "code",
   "execution_count": null,
   "id": "567adc6a-da32-4a84-827b-1423e8c8d046",
   "metadata": {},
   "outputs": [],
   "source": [
    "# export\n",
    "def load_df(input_file: str | pathlib.Path) -> pd.DataFrame:\n",
    "    \n",
    "    input_file = pathlib.Path(input_file)\n",
    "    \n",
    "    input_file.suffix == '', 'an extension-less file is expected'\n",
    "    \n",
    "    return pd.read_pickle(input_file.with_suffix('.pickle'))"
   ]
  },
  {
   "cell_type": "code",
   "execution_count": null,
   "id": "f1e29784-7a38-4fef-82dd-e196df471274",
   "metadata": {},
   "outputs": [],
   "source": [
    "loaded_df = load_df(saved_file)"
   ]
  },
  {
   "cell_type": "markdown",
   "id": "839cbd2b-4ef1-40b9-b5dd-d463f1f2e7e4",
   "metadata": {},
   "source": [
    "Saved and loaded `pd.DataFrame`s should be equal"
   ]
  },
  {
   "cell_type": "code",
   "execution_count": null,
   "id": "d1e80c8e-e9c4-4d06-89cc-e5dda867d089",
   "metadata": {},
   "outputs": [],
   "source": [
    "assert df.equals(loaded_df)"
   ]
  },
  {
   "cell_type": "code",
   "execution_count": null,
   "id": "8d18210c-7772-400b-a4be-25f6f9337f81",
   "metadata": {},
   "outputs": [],
   "source": [
    "# export\n",
    "def exists(file: str | pathlib.Path) -> bool:\n",
    "    \n",
    "    file = pathlib.Path(file)\n",
    "    \n",
    "    file.suffix == '', 'an extension-less file is expected'\n",
    "    \n",
    "    return file.with_suffix('.pickle').exists()"
   ]
  },
  {
   "cell_type": "code",
   "execution_count": null,
   "id": "4f2cc764-ec7c-4eb7-81bd-17bf5036eb0b",
   "metadata": {},
   "outputs": [
    {
     "data": {
      "text/plain": [
       "True"
      ]
     },
     "execution_count": null,
     "metadata": {},
     "output_type": "execute_result"
    }
   ],
   "source": [
    "exists(saved_file)"
   ]
  },
  {
   "cell_type": "code",
   "execution_count": null,
   "id": "30ddcebf-583d-41c8-8dce-29ced11b7d94",
   "metadata": {},
   "outputs": [],
   "source": [
    "# export\n",
    "def actual_name(file: str | pathlib.Path) -> pathlib.Path:\n",
    "    \n",
    "    file = pathlib.Path(file)\n",
    "    \n",
    "    file.suffix == '', 'an extension-less file is expected'\n",
    "    \n",
    "    return file.with_suffix('.pickle')"
   ]
  },
  {
   "cell_type": "code",
   "execution_count": null,
   "id": "e1529155-983d-4bbf-a4cb-30f2282daf45",
   "metadata": {},
   "outputs": [],
   "source": [
    "actual_name(saved_file).unlink()"
   ]
  },
  {
   "cell_type": "code",
   "execution_count": null,
   "id": "a83ef658-31ba-4e4b-83d7-c61781e00e70",
   "metadata": {},
   "outputs": [
    {
     "name": "stdout",
     "output_type": "stream",
     "text": [
      "Converted 40_io.ipynb.\n"
     ]
    }
   ],
   "source": [
    "# hide\n",
    "import nbdev.export\n",
    "nbdev.export.notebook2script('40_io.ipynb')"
   ]
  }
 ],
 "metadata": {
  "kernelspec": {
   "display_name": "Python 3 (ipykernel)",
   "language": "python",
   "name": "python3"
  }
 },
 "nbformat": 4,
 "nbformat_minor": 5
}
