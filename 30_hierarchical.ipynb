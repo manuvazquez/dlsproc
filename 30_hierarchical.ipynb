{
 "cells": [
  {
   "cell_type": "code",
   "execution_count": null,
   "id": "71c66380-ddd0-4513-8ca4-79e4f2953435",
   "metadata": {},
   "outputs": [],
   "source": [
    "# default_exp hier"
   ]
  },
  {
   "cell_type": "markdown",
   "id": "5eabc585-7569-4ab9-8393-0315bf89c253",
   "metadata": {},
   "source": [
    "# hier\n",
    "\n",
    "> Code for dealing with multiindexed columns"
   ]
  },
  {
   "cell_type": "code",
   "execution_count": null,
   "id": "ee2ac3dd-7f83-49a2-aba9-40256b4589be",
   "metadata": {},
   "outputs": [],
   "source": [
    "# export\n",
    "import pathlib\n",
    "\n",
    "import pandas as pd\n",
    "from lxml import etree\n",
    "\n",
    "import dlsproc.xml"
   ]
  },
  {
   "cell_type": "markdown",
   "id": "95ef5a14-f87c-4fb1-828d-07a4fa2d8124",
   "metadata": {},
   "source": [
    "Directory where the data (*XML* files) are stored"
   ]
  },
  {
   "cell_type": "code",
   "execution_count": null,
   "id": "00682f2d-6641-4618-ac1b-ddcdfd988039",
   "metadata": {},
   "outputs": [
    {
     "data": {
      "text/plain": [
       "PosixPath('/home/manu/dlsproc/samples')"
      ]
     },
     "execution_count": null,
     "metadata": {},
     "output_type": "execute_result"
    }
   ],
   "source": [
    "directory = pathlib.Path.cwd() / 'samples'\n",
    "assert directory.exists()\n",
    "directory"
   ]
  },
  {
   "cell_type": "markdown",
   "id": "b1138578-7781-4c66-8b73-8ba3e986ac10",
   "metadata": {},
   "source": [
    "A (sample) file in that directory"
   ]
  },
  {
   "cell_type": "code",
   "execution_count": null,
   "id": "a37e129f-21e3-4d61-837d-e33231afbe2a",
   "metadata": {},
   "outputs": [
    {
     "data": {
      "text/plain": [
       "PosixPath('/home/manu/dlsproc/samples/PlataformasAgregadasSinMenores_20220104_030016_1.atom')"
      ]
     },
     "execution_count": null,
     "metadata": {},
     "output_type": "execute_result"
    }
   ],
   "source": [
    "xml_file = directory / 'PlataformasAgregadasSinMenores_20220104_030016_1.atom'\n",
    "assert xml_file.exists()\n",
    "xml_file"
   ]
  },
  {
   "cell_type": "markdown",
   "id": "0b65f482-ac13-4e0d-bb2c-3f508ff6ea8b",
   "metadata": {},
   "source": [
    "*Root* element of the *XML* tree"
   ]
  },
  {
   "cell_type": "code",
   "execution_count": null,
   "id": "6373d5bc-078c-4eac-8f0a-d6e51c3d3d01",
   "metadata": {},
   "outputs": [],
   "source": [
    "root = etree.parse(xml_file).getroot()"
   ]
  },
  {
   "cell_type": "markdown",
   "id": "12ceaf8f-00f2-40a2-b6c5-066e47e2f9fd",
   "metadata": {},
   "source": [
    "Entries are extracted"
   ]
  },
  {
   "cell_type": "code",
   "execution_count": null,
   "id": "2f4cbc21-009a-43d9-b712-23d9dcd972b5",
   "metadata": {},
   "outputs": [
    {
     "data": {
      "text/plain": [
       "[<Element {http://www.w3.org/2005/Atom}entry at 0x7f1f9443db00>,\n",
       " <Element {http://www.w3.org/2005/Atom}entry at 0x7f1f9443e240>,\n",
       " <Element {http://www.w3.org/2005/Atom}entry at 0x7f1f9443d780>,\n",
       " <Element {http://www.w3.org/2005/Atom}entry at 0x7f1f9443e280>]"
      ]
     },
     "execution_count": null,
     "metadata": {},
     "output_type": "execute_result"
    }
   ],
   "source": [
    "entries = dlsproc.xml.get_entries(root)\n",
    "assert len(entries) == 117\n",
    "entries[:4]"
   ]
  },
  {
   "cell_type": "markdown",
   "id": "f457b104-05cd-468c-86fb-2274a1de5935",
   "metadata": {},
   "source": [
    "The first one is picked out"
   ]
  },
  {
   "cell_type": "code",
   "execution_count": null,
   "id": "de9561fb-d7b6-4356-9764-674a36029779",
   "metadata": {},
   "outputs": [
    {
     "data": {
      "text/plain": [
       "('http://www.w3.org/2005/Atom', 'entry')"
      ]
     },
     "execution_count": null,
     "metadata": {},
     "output_type": "execute_result"
    }
   ],
   "source": [
    "element = entries[0]\n",
    "dlsproc.xml.split_namespace_tag(element.tag)"
   ]
  },
  {
   "cell_type": "markdown",
   "id": "d0a87e9b-83b5-4b0a-b243-386a47982f90",
   "metadata": {},
   "source": [
    "It is turned into a `pd.Series`"
   ]
  },
  {
   "cell_type": "code",
   "execution_count": null,
   "id": "bc141a16-98e2-4b0c-bae0-1964d2845556",
   "metadata": {},
   "outputs": [
    {
     "data": {
      "text/plain": [
       "id                                                                           https://contrataciondelestado.es/sindicacion/P...\n",
       "summary                                                                      Id licitación: C. 2-2021; Órgano de Contrataci...\n",
       "title                                                                        L'objecte del contracte és la renovació de tot...\n",
       "updated                                                                                          2022-01-03T01:11:41.826+01:00\n",
       "ContractFolderStatus - ContractFolderID                                                                              C. 2-2021\n",
       "ContractFolderStatus - ContractFolderStatusCode                                                                            ADJ\n",
       "ContractFolderStatus - LocatedContractingParty - BuyerProfileURIID           https://contractaciopublica.gencat.cat/ecofin_...\n",
       "ContractFolderStatus - LocatedContractingParty - Party - PartyName - Name                             Ajuntament de Sant Ramon\n",
       "dtype: object"
      ]
     },
     "execution_count": null,
     "metadata": {},
     "output_type": "execute_result"
    }
   ],
   "source": [
    "element_series = dlsproc.xml.entry_to_series(element)\n",
    "element_series[:8]"
   ]
  },
  {
   "cell_type": "code",
   "execution_count": null,
   "id": "11caf37c-2234-437b-93c1-3aa0c27a8e12",
   "metadata": {},
   "outputs": [
    {
     "name": "stdout",
     "output_type": "stream",
     "text": [
      "Converted 30_hierarchical.ipynb.\n"
     ]
    }
   ],
   "source": [
    "# hide\n",
    "import nbdev.export\n",
    "nbdev.export.notebook2script('30_hierarchical.ipynb')"
   ]
  }
 ],
 "metadata": {
  "kernelspec": {
   "display_name": "Python 3 (ipykernel)",
   "language": "python",
   "name": "python3"
  }
 },
 "nbformat": 4,
 "nbformat_minor": 5
}
