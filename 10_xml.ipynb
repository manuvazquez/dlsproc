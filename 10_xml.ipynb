{
 "cells": [
  {
   "cell_type": "code",
   "execution_count": null,
   "id": "b228d757-44d0-4f15-bc18-b86827952a0f",
   "metadata": {},
   "outputs": [],
   "source": [
    "# default_exp xml"
   ]
  },
  {
   "cell_type": "markdown",
   "id": "8efe08fd-8837-4841-97e1-4481af7f1fd7",
   "metadata": {},
   "source": [
    "# xml\n",
    "\n",
    "> Functions to parse XML files"
   ]
  },
  {
   "cell_type": "code",
   "execution_count": null,
   "id": "9d726f12-e682-49f0-94fb-ac579259ca35",
   "metadata": {},
   "outputs": [],
   "source": [
    "# export\n",
    "import pathlib\n",
    "# import xml.etree.ElementTree\n",
    "import lxml.etree as ET"
   ]
  },
  {
   "cell_type": "markdown",
   "id": "8d0aa4ee-85f7-48d7-bfaa-456c1c473482",
   "metadata": {},
   "source": [
    "Directory where the data (*XML* files) are stored"
   ]
  },
  {
   "cell_type": "code",
   "execution_count": null,
   "id": "00682f2d-6641-4618-ac1b-ddcdfd988039",
   "metadata": {},
   "outputs": [
    {
     "data": {
      "text/plain": [
       "PosixPath('/home/manu/dlsproc/samples')"
      ]
     },
     "execution_count": null,
     "metadata": {},
     "output_type": "execute_result"
    }
   ],
   "source": [
    "directory = pathlib.Path.cwd() / 'samples'\n",
    "assert directory.exists()\n",
    "directory"
   ]
  },
  {
   "cell_type": "markdown",
   "id": "1e2391bc-aefe-4c15-b276-9b0dcec4b879",
   "metadata": {},
   "source": [
    "A (sample) file in that directory"
   ]
  },
  {
   "cell_type": "code",
   "execution_count": null,
   "id": "a37e129f-21e3-4d61-837d-e33231afbe2a",
   "metadata": {},
   "outputs": [
    {
     "data": {
      "text/plain": [
       "PosixPath('/home/manu/dlsproc/samples/sample.xml')"
      ]
     },
     "execution_count": null,
     "metadata": {},
     "output_type": "execute_result"
    }
   ],
   "source": [
    "xml_file = directory / 'sample.xml'\n",
    "assert xml_file.exists()\n",
    "xml_file"
   ]
  },
  {
   "cell_type": "markdown",
   "id": "0efba25d-0b3b-4eb6-83a0-34a6848f353b",
   "metadata": {},
   "source": [
    "## Convenience functions"
   ]
  },
  {
   "cell_type": "markdown",
   "id": "ee4e94e3-8739-4e9e-aeae-b016e9a52c41",
   "metadata": {},
   "source": [
    "A function to extract the namespaces *declared* in an *XML* file"
   ]
  },
  {
   "cell_type": "code",
   "execution_count": null,
   "id": "0b66537e-3084-45f9-91c4-fc29e62b5b63",
   "metadata": {},
   "outputs": [],
   "source": [
    "# export\n",
    "def get_namespaces(input_file: str | pathlib.Path, root_name: str = 'base') -> dict:\n",
    "    \n",
    "    tree = ET.parse(input_file)\n",
    "    \n",
    "    namespaces = tree.getroot().nsmap\n",
    "    \n",
    "    if None in namespaces:\n",
    "        \n",
    "        namespaces[root_name] = namespaces.pop(None)\n",
    "        \n",
    "    return namespaces"
   ]
  },
  {
   "cell_type": "code",
   "execution_count": null,
   "id": "cb8d6b65-0b4b-4d88-816c-3be72dc6de2a",
   "metadata": {},
   "outputs": [
    {
     "data": {
      "text/plain": [
       "{'cbc-place-ext': 'urn:dgpe:names:draft:codice-place-ext:schema:xsd:CommonBasicComponents-2',\n",
       " 'cac-place-ext': 'urn:dgpe:names:draft:codice-place-ext:schema:xsd:CommonAggregateComponents-2',\n",
       " 'cbc': 'urn:dgpe:names:draft:codice:schema:xsd:CommonBasicComponents-2',\n",
       " 'cac': 'urn:dgpe:names:draft:codice:schema:xsd:CommonAggregateComponents-2',\n",
       " 'ns1': 'urn:oasis:names:specification:ubl:schema:xsd:CommonExtensionComponents-2',\n",
       " 'base': 'http://www.w3.org/2005/Atom'}"
      ]
     },
     "execution_count": null,
     "metadata": {},
     "output_type": "execute_result"
    }
   ],
   "source": [
    "get_namespaces(xml_file)"
   ]
  },
  {
   "cell_type": "code",
   "execution_count": null,
   "id": "11caf37c-2234-437b-93c1-3aa0c27a8e12",
   "metadata": {},
   "outputs": [
    {
     "name": "stdout",
     "output_type": "stream",
     "text": [
      "Converted 10_xml.ipynb.\n"
     ]
    }
   ],
   "source": [
    "# hide\n",
    "import nbdev.export\n",
    "nbdev.export.notebook2script('10_xml.ipynb')"
   ]
  }
 ],
 "metadata": {
  "kernelspec": {
   "display_name": "Python 3 (ipykernel)",
   "language": "python",
   "name": "python3"
  }
 },
 "nbformat": 4,
 "nbformat_minor": 5
}
