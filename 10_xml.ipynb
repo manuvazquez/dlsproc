{
 "cells": [
  {
   "cell_type": "code",
   "execution_count": null,
   "id": "b228d757-44d0-4f15-bc18-b86827952a0f",
   "metadata": {},
   "outputs": [],
   "source": [
    "# default_exp xml"
   ]
  },
  {
   "cell_type": "markdown",
   "id": "8efe08fd-8837-4841-97e1-4481af7f1fd7",
   "metadata": {},
   "source": [
    "# xml\n",
    "\n",
    "> Functions to parse XML files"
   ]
  },
  {
   "cell_type": "code",
   "execution_count": null,
   "id": "9d726f12-e682-49f0-94fb-ac579259ca35",
   "metadata": {},
   "outputs": [],
   "source": [
    "# export\n",
    "import pathlib\n",
    "import re\n",
    "import datetime\n",
    "# import xml.etree.ElementTree\n",
    "\n",
    "import pandas as pd\n",
    "from lxml import etree"
   ]
  },
  {
   "cell_type": "markdown",
   "id": "8d0aa4ee-85f7-48d7-bfaa-456c1c473482",
   "metadata": {},
   "source": [
    "Directory where the data (*XML* files) are stored"
   ]
  },
  {
   "cell_type": "code",
   "execution_count": null,
   "id": "00682f2d-6641-4618-ac1b-ddcdfd988039",
   "metadata": {},
   "outputs": [
    {
     "data": {
      "text/plain": [
       "PosixPath('/home/manu/dlsproc/samples')"
      ]
     },
     "execution_count": null,
     "metadata": {},
     "output_type": "execute_result"
    }
   ],
   "source": [
    "directory = pathlib.Path.cwd() / 'samples'\n",
    "assert directory.exists()\n",
    "directory"
   ]
  },
  {
   "cell_type": "markdown",
   "id": "1e2391bc-aefe-4c15-b276-9b0dcec4b879",
   "metadata": {},
   "source": [
    "A (sample) file in that directory"
   ]
  },
  {
   "cell_type": "code",
   "execution_count": null,
   "id": "a37e129f-21e3-4d61-837d-e33231afbe2a",
   "metadata": {},
   "outputs": [
    {
     "data": {
      "text/plain": [
       "PosixPath('/home/manu/dlsproc/samples/sample.xml')"
      ]
     },
     "execution_count": null,
     "metadata": {},
     "output_type": "execute_result"
    }
   ],
   "source": [
    "xml_file = directory / 'sample.xml'\n",
    "assert xml_file.exists()\n",
    "xml_file"
   ]
  },
  {
   "cell_type": "markdown",
   "id": "0bdca1c8-93ce-42a9-b16a-498c304edc18",
   "metadata": {},
   "source": [
    "*Root* element of the *XML* tree"
   ]
  },
  {
   "cell_type": "code",
   "execution_count": null,
   "id": "74566f0b-2ce5-4a67-90ae-1fc795ecca48",
   "metadata": {},
   "outputs": [],
   "source": [
    "root = etree.parse(xml_file).getroot()"
   ]
  },
  {
   "cell_type": "markdown",
   "id": "0efba25d-0b3b-4eb6-83a0-34a6848f353b",
   "metadata": {},
   "source": [
    "## Convenience functions"
   ]
  },
  {
   "cell_type": "markdown",
   "id": "ee4e94e3-8739-4e9e-aeae-b016e9a52c41",
   "metadata": {},
   "source": [
    "A function to extract the *namespace*s declared in an *XML* file"
   ]
  },
  {
   "cell_type": "code",
   "execution_count": null,
   "id": "0b66537e-3084-45f9-91c4-fc29e62b5b63",
   "metadata": {},
   "outputs": [],
   "source": [
    "# export\n",
    "def get_namespaces(input_file: str | pathlib.Path, root_name: str = 'base') -> dict:\n",
    "    \n",
    "    tree = etree.parse(input_file)\n",
    "    \n",
    "    namespaces = tree.getroot().nsmap\n",
    "    \n",
    "    if None in namespaces:\n",
    "        \n",
    "        namespaces[root_name] = namespaces.pop(None)\n",
    "        \n",
    "    return namespaces"
   ]
  },
  {
   "cell_type": "code",
   "execution_count": null,
   "id": "cb8d6b65-0b4b-4d88-816c-3be72dc6de2a",
   "metadata": {},
   "outputs": [
    {
     "data": {
      "text/plain": [
       "{'cbc-place-ext': 'urn:dgpe:names:draft:codice-place-ext:schema:xsd:CommonBasicComponents-2',\n",
       " 'cac-place-ext': 'urn:dgpe:names:draft:codice-place-ext:schema:xsd:CommonAggregateComponents-2',\n",
       " 'cbc': 'urn:dgpe:names:draft:codice:schema:xsd:CommonBasicComponents-2',\n",
       " 'cac': 'urn:dgpe:names:draft:codice:schema:xsd:CommonAggregateComponents-2',\n",
       " 'ns1': 'urn:oasis:names:specification:ubl:schema:xsd:CommonExtensionComponents-2',\n",
       " 'base': 'http://www.w3.org/2005/Atom'}"
      ]
     },
     "execution_count": null,
     "metadata": {},
     "output_type": "execute_result"
    }
   ],
   "source": [
    "get_namespaces(xml_file)"
   ]
  },
  {
   "cell_type": "markdown",
   "id": "85bbd439-81fc-4e6d-a5e4-c11484b112a1",
   "metadata": {},
   "source": [
    "In order to trim off *namespace*s from a tag:\n",
    "- a regular expression"
   ]
  },
  {
   "cell_type": "code",
   "execution_count": null,
   "id": "33a4f81a-23be-4cf9-bb24-b23d6b3e6df4",
   "metadata": {},
   "outputs": [],
   "source": [
    "# export\n",
    "re_tag = re.compile('\\{(.*)\\}(.*)')"
   ]
  },
  {
   "cell_type": "code",
   "execution_count": null,
   "id": "81cf6797-0279-4b1f-9459-390b5c8c0180",
   "metadata": {},
   "outputs": [],
   "source": [
    "assert re_tag.match('{blabla}foo').groups() == ('blabla', 'foo')"
   ]
  },
  {
   "cell_type": "code",
   "execution_count": null,
   "id": "61d29e8e-8a11-48ba-b1ed-6f8919ac7f26",
   "metadata": {},
   "outputs": [
    {
     "data": {
      "text/plain": [
       "('some.namespace', 'id')"
      ]
     },
     "execution_count": null,
     "metadata": {},
     "output_type": "execute_result"
    }
   ],
   "source": [
    "re_tag.match('{some.namespace}id').groups()"
   ]
  },
  {
   "cell_type": "markdown",
   "id": "b0ab0238-966f-49cd-ae53-9c481299435b",
   "metadata": {},
   "source": [
    "* a function"
   ]
  },
  {
   "cell_type": "code",
   "execution_count": null,
   "id": "6e01b512-8c4d-4543-8abd-9ec3d055435d",
   "metadata": {},
   "outputs": [],
   "source": [
    "# export\n",
    "def split_namespace_tag(namespace_tag: str) -> str:\n",
    "    return re_tag.match(namespace_tag).groups()"
   ]
  },
  {
   "cell_type": "code",
   "execution_count": null,
   "id": "82b99f3c-c0cb-4cd4-ae04-0ed7f2960b60",
   "metadata": {},
   "outputs": [
    {
     "data": {
      "text/plain": [
       "('some.namespace', 'id')"
      ]
     },
     "execution_count": null,
     "metadata": {},
     "output_type": "execute_result"
    }
   ],
   "source": [
    "split_namespace_tag('{some.namespace}id')"
   ]
  },
  {
   "cell_type": "code",
   "execution_count": null,
   "id": "de2f7466-af74-4f0e-a60b-6afd84dcba82",
   "metadata": {},
   "outputs": [
    {
     "data": {
      "text/plain": [
       "('http://www.w3.org/2005/Atom', 'feed')"
      ]
     },
     "execution_count": null,
     "metadata": {},
     "output_type": "execute_result"
    }
   ],
   "source": [
    "split_namespace_tag(root.tag)"
   ]
  },
  {
   "cell_type": "code",
   "execution_count": null,
   "id": "acfddea0-9ac4-487b-b2b1-d324e5d5d144",
   "metadata": {},
   "outputs": [
    {
     "data": {
      "text/plain": [
       "['author', 'id', 'link', 'title', 'updated', 'deleted-entry']"
      ]
     },
     "execution_count": null,
     "metadata": {},
     "output_type": "execute_result"
    }
   ],
   "source": [
    "# export\n",
    "to_be_skipped = ['author', 'id', 'link', 'title', 'updated', r'deleted-entry']\n",
    "to_be_skipped"
   ]
  },
  {
   "cell_type": "markdown",
   "id": "94f058ea-4fee-438d-9443-d6665581a027",
   "metadata": {},
   "source": [
    "A function to get list of `etree.Element` with all the *entries* (allegedly, *procurement contracts*)"
   ]
  },
  {
   "cell_type": "code",
   "execution_count": null,
   "id": "7a1911c3-7099-498e-9bf6-809e7bd02d2c",
   "metadata": {},
   "outputs": [],
   "source": [
    "# export\n",
    "def get_entries(root: etree.Element) -> list[etree.Element]:\n",
    "    \n",
    "    return [e for e in etree.parse(xml_file).getroot() if split_namespace_tag(e.tag)[1] == 'entry']"
   ]
  },
  {
   "cell_type": "markdown",
   "id": "5a7b6ac2-a492-4c16-908b-23839de19d6d",
   "metadata": {},
   "source": [
    "*Entries* are extracted using the above function (only the 4 first ones are shown)"
   ]
  },
  {
   "cell_type": "code",
   "execution_count": null,
   "id": "26fc9a77-70af-497f-92f4-d56afddbe932",
   "metadata": {},
   "outputs": [
    {
     "data": {
      "text/plain": [
       "[<Element {http://www.w3.org/2005/Atom}entry at 0x7f380384c100>,\n",
       " <Element {http://www.w3.org/2005/Atom}entry at 0x7f380384c680>,\n",
       " <Element {http://www.w3.org/2005/Atom}entry at 0x7f380384e0c0>,\n",
       " <Element {http://www.w3.org/2005/Atom}entry at 0x7f380384df00>]"
      ]
     },
     "execution_count": null,
     "metadata": {},
     "output_type": "execute_result"
    }
   ],
   "source": [
    "entries = get_entries(root)\n",
    "assert len(entries) == 117\n",
    "entries[:4]"
   ]
  },
  {
   "cell_type": "code",
   "execution_count": null,
   "id": "80ec1376-c475-4761-8f67-f13fc0322236",
   "metadata": {},
   "outputs": [
    {
     "data": {
      "text/plain": [
       "('http://www.w3.org/2005/Atom', 'entry')"
      ]
     },
     "execution_count": null,
     "metadata": {},
     "output_type": "execute_result"
    }
   ],
   "source": [
    "element = entries[0]\n",
    "split_namespace_tag(element.tag)"
   ]
  },
  {
   "cell_type": "code",
   "execution_count": null,
   "id": "bf8f33dd-9fb3-4fdb-a3c4-3639b4e0bd67",
   "metadata": {},
   "outputs": [
    {
     "data": {
      "text/plain": [
       "('http://www.w3.org/2005/Atom', 'title')"
      ]
     },
     "execution_count": null,
     "metadata": {},
     "output_type": "execute_result"
    }
   ],
   "source": [
    "subelement = element[3]\n",
    "split_namespace_tag(subelement.tag)"
   ]
  },
  {
   "cell_type": "code",
   "execution_count": null,
   "id": "af3c6c5d-c012-4646-9f52-ada2aa8c44d8",
   "metadata": {},
   "outputs": [
    {
     "data": {
      "text/plain": [
       "\"L'objecte del contracte és la renovació de totes les llumeneres que formen la il·luminació existent de tots els carrers i vials del casc urbà de la localitat de Sant Ramon i dels nuclis agregats de La Manresana, Portell, Viver i Gospí\""
      ]
     },
     "execution_count": null,
     "metadata": {},
     "output_type": "execute_result"
    }
   ],
   "source": [
    "subelement.text"
   ]
  },
  {
   "cell_type": "code",
   "execution_count": null,
   "id": "8d842420-bbed-452a-8cf8-eb7a0e2c1581",
   "metadata": {},
   "outputs": [
    {
     "data": {
      "text/plain": [
       "<Element {http://www.w3.org/2005/Atom}entry at 0x7f380384c100>"
      ]
     },
     "execution_count": null,
     "metadata": {},
     "output_type": "execute_result"
    }
   ],
   "source": [
    "element"
   ]
  },
  {
   "cell_type": "markdown",
   "id": "da18895a-a1dc-4046-9e82-0d4b5bb21003",
   "metadata": {},
   "source": [
    "Format of the dates to be parsed by `entry_to_series`"
   ]
  },
  {
   "cell_type": "code",
   "execution_count": null,
   "id": "aa802c4f-707f-45d5-ac3f-89c8c428211b",
   "metadata": {},
   "outputs": [],
   "source": [
    "# export\n",
    "datetime_format = '%Y-%m-%dT%H:%M:%S.%f%z'\n",
    "# datetime_format_without_micro = '%Y-%m-%dT%H:%M:%S%z'"
   ]
  },
  {
   "cell_type": "markdown",
   "id": "b21a4bbf-89e0-4f9c-8937-818eda3bf0b6",
   "metadata": {},
   "source": [
    "A function to parse an entry into a `pd.Series`"
   ]
  },
  {
   "cell_type": "code",
   "execution_count": null,
   "id": "09d4f3d1-b9ba-4774-9326-9a330f8cd8cd",
   "metadata": {},
   "outputs": [],
   "source": [
    "# export\n",
    "def entry_to_series(entry: etree.Element) -> pd.Series:\n",
    "\n",
    "    res = {}\n",
    "    \n",
    "    # for every \"child\" of `entry` ...\n",
    "    for e in entry:\n",
    "        \n",
    "        # ...the *namespace* and *tag* are extracted\n",
    "        namespace, tag = split_namespace_tag(e.tag)\n",
    "\n",
    "        # the `text` in different tags is processed in different ways...\n",
    "        if tag == 'updated':\n",
    "            value = pd.to_datetime(e.text, format=datetime_format)\n",
    "        else:\n",
    "            value = e.text\n",
    "\n",
    "        res[tag] = value\n",
    "    \n",
    "    return pd.Series(res)"
   ]
  },
  {
   "cell_type": "code",
   "execution_count": null,
   "id": "5b02c23d-1814-4660-944e-c3eda8305a41",
   "metadata": {},
   "outputs": [
    {
     "data": {
      "text/plain": [
       "id                      https://contrataciondelestado.es/sindicacion/P...\n",
       "link                                                                 None\n",
       "summary                 Id licitación: C. 2-2021; Órgano de Contrataci...\n",
       "title                   L'objecte del contracte és la renovació de tot...\n",
       "updated                                  2022-01-03 01:11:41.826000+01:00\n",
       "ContractFolderStatus                                       \\n            \n",
       "dtype: object"
      ]
     },
     "execution_count": null,
     "metadata": {},
     "output_type": "execute_result"
    }
   ],
   "source": [
    "element_series = entry_to_series(element)\n",
    "element_series"
   ]
  },
  {
   "cell_type": "markdown",
   "id": "fd652e17-b9fc-4847-bcbc-b05153426488",
   "metadata": {},
   "source": [
    "We can concatenate together the `pd.Series` for the different *entries* into a `pd.DataFrame`"
   ]
  },
  {
   "cell_type": "code",
   "execution_count": null,
   "id": "09518d08-d4fb-4514-84ae-ff4e30e95cad",
   "metadata": {},
   "outputs": [
    {
     "data": {
      "text/html": [
       "<div>\n",
       "<style scoped>\n",
       "    .dataframe tbody tr th:only-of-type {\n",
       "        vertical-align: middle;\n",
       "    }\n",
       "\n",
       "    .dataframe tbody tr th {\n",
       "        vertical-align: top;\n",
       "    }\n",
       "\n",
       "    .dataframe thead th {\n",
       "        text-align: right;\n",
       "    }\n",
       "</style>\n",
       "<table border=\"1\" class=\"dataframe\">\n",
       "  <thead>\n",
       "    <tr style=\"text-align: right;\">\n",
       "      <th></th>\n",
       "      <th>id</th>\n",
       "      <th>link</th>\n",
       "      <th>summary</th>\n",
       "      <th>title</th>\n",
       "      <th>updated</th>\n",
       "      <th>ContractFolderStatus</th>\n",
       "    </tr>\n",
       "  </thead>\n",
       "  <tbody>\n",
       "    <tr>\n",
       "      <th>0</th>\n",
       "      <td>https://contrataciondelestado.es/sindicacion/P...</td>\n",
       "      <td>None</td>\n",
       "      <td>Id licitación: C. 2-2021; Órgano de Contrataci...</td>\n",
       "      <td>L'objecte del contracte és la renovació de tot...</td>\n",
       "      <td>2022-01-03 01:11:41.826000+01:00</td>\n",
       "      <td>\\n</td>\n",
       "    </tr>\n",
       "    <tr>\n",
       "      <th>1</th>\n",
       "      <td>https://contrataciondelestado.es/sindicacion/P...</td>\n",
       "      <td>None</td>\n",
       "      <td>Id licitación: 8128_3/2021; Órgano de Contrata...</td>\n",
       "      <td>Obras de restauración hidromorfológica del río...</td>\n",
       "      <td>2022-01-03 01:00:11.194000+01:00</td>\n",
       "      <td>\\n</td>\n",
       "    </tr>\n",
       "    <tr>\n",
       "      <th>2</th>\n",
       "      <td>https://contrataciondelestado.es/sindicacion/P...</td>\n",
       "      <td>None</td>\n",
       "      <td>Id licitación: 1000_0005-CP01-2021-000063; Órg...</td>\n",
       "      <td>Contrato del servicio de realización de labore...</td>\n",
       "      <td>2022-01-03 01:00:10.399000+01:00</td>\n",
       "      <td>\\n</td>\n",
       "    </tr>\n",
       "    <tr>\n",
       "      <th>3</th>\n",
       "      <td>https://contrataciondelestado.es/sindicacion/P...</td>\n",
       "      <td>None</td>\n",
       "      <td>Id licitación: 1379/2020 4738; Órgano de Contr...</td>\n",
       "      <td>Obres de renovació de l'enllumenat públic a la...</td>\n",
       "      <td>2022-01-03 00:11:40.740000+01:00</td>\n",
       "      <td>\\n</td>\n",
       "    </tr>\n",
       "  </tbody>\n",
       "</table>\n",
       "</div>"
      ],
      "text/plain": [
       "                                                  id  link  \\\n",
       "0  https://contrataciondelestado.es/sindicacion/P...  None   \n",
       "1  https://contrataciondelestado.es/sindicacion/P...  None   \n",
       "2  https://contrataciondelestado.es/sindicacion/P...  None   \n",
       "3  https://contrataciondelestado.es/sindicacion/P...  None   \n",
       "\n",
       "                                             summary  \\\n",
       "0  Id licitación: C. 2-2021; Órgano de Contrataci...   \n",
       "1  Id licitación: 8128_3/2021; Órgano de Contrata...   \n",
       "2  Id licitación: 1000_0005-CP01-2021-000063; Órg...   \n",
       "3  Id licitación: 1379/2020 4738; Órgano de Contr...   \n",
       "\n",
       "                                               title  \\\n",
       "0  L'objecte del contracte és la renovació de tot...   \n",
       "1  Obras de restauración hidromorfológica del río...   \n",
       "2  Contrato del servicio de realización de labore...   \n",
       "3  Obres de renovació de l'enllumenat públic a la...   \n",
       "\n",
       "                           updated ContractFolderStatus  \n",
       "0 2022-01-03 01:11:41.826000+01:00       \\n              \n",
       "1 2022-01-03 01:00:11.194000+01:00       \\n              \n",
       "2 2022-01-03 01:00:10.399000+01:00       \\n              \n",
       "3 2022-01-03 00:11:40.740000+01:00       \\n              "
      ]
     },
     "execution_count": null,
     "metadata": {},
     "output_type": "execute_result"
    }
   ],
   "source": [
    "# df = pd.concat([entry_to_series(e).to_frame().T for e in entries[:4]])\n",
    "df = pd.concat([entry_to_series(e) for e in entries[:4]], axis=1).T\n",
    "df"
   ]
  },
  {
   "cell_type": "markdown",
   "id": "90a7ae2d-31db-4624-ab1d-e73277df1f20",
   "metadata": {},
   "source": [
    "The types of the columns"
   ]
  },
  {
   "cell_type": "code",
   "execution_count": null,
   "id": "4bfe894b-e63c-4e30-97dd-f1cc6fb0c222",
   "metadata": {},
   "outputs": [
    {
     "data": {
      "text/plain": [
       "id                                                    object\n",
       "link                                                  object\n",
       "summary                                               object\n",
       "title                                                 object\n",
       "updated                 datetime64[ns, pytz.FixedOffset(60)]\n",
       "ContractFolderStatus                                  object\n",
       "dtype: object"
      ]
     },
     "execution_count": null,
     "metadata": {},
     "output_type": "execute_result"
    }
   ],
   "source": [
    "df.dtypes"
   ]
  },
  {
   "cell_type": "code",
   "execution_count": null,
   "id": "11caf37c-2234-437b-93c1-3aa0c27a8e12",
   "metadata": {},
   "outputs": [
    {
     "name": "stdout",
     "output_type": "stream",
     "text": [
      "Converted 10_xml.ipynb.\n"
     ]
    }
   ],
   "source": [
    "# hide\n",
    "import nbdev.export\n",
    "nbdev.export.notebook2script('10_xml.ipynb')"
   ]
  }
 ],
 "metadata": {
  "kernelspec": {
   "display_name": "Python 3 (ipykernel)",
   "language": "python",
   "name": "python3"
  }
 },
 "nbformat": 4,
 "nbformat_minor": 5
}
