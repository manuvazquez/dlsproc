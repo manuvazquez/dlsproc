{
 "cells": [
  {
   "cell_type": "code",
   "execution_count": null,
   "metadata": {},
   "outputs": [],
   "source": [
    "# default_exp core"
   ]
  },
  {
   "cell_type": "markdown",
   "metadata": {},
   "source": [
    "# core\n",
    "\n",
    "> Main functionality."
   ]
  },
  {
   "cell_type": "markdown",
   "metadata": {},
   "source": [
    "The main functionality is actually provided by the function below. `main` is just a *wrapper* that parses command-line arguments."
   ]
  },
  {
   "cell_type": "code",
   "execution_count": null,
   "metadata": {},
   "outputs": [],
   "source": [
    "#hide\n",
    "from nbdev.showdoc import *"
   ]
  },
  {
   "cell_type": "code",
   "execution_count": null,
   "metadata": {},
   "outputs": [],
   "source": [
    "# export\n",
    "import sys\n",
    "import argparse\n",
    "import pathlib\n",
    "\n",
    "import yaml\n",
    "\n",
    "import dlsproc.extend"
   ]
  },
  {
   "cell_type": "markdown",
   "metadata": {},
   "source": [
    "Directory where the zip files are stored"
   ]
  },
  {
   "cell_type": "code",
   "execution_count": null,
   "metadata": {},
   "outputs": [
    {
     "data": {
      "text/plain": [
       "Path('/home/manu/dlsproc/samples')"
      ]
     },
     "execution_count": null,
     "metadata": {},
     "output_type": "execute_result"
    }
   ],
   "source": [
    "directory = pathlib.Path.cwd() / 'samples'\n",
    "assert directory.exists()\n",
    "directory"
   ]
  },
  {
   "cell_type": "markdown",
   "metadata": {},
   "source": [
    "## Processing a single atom"
   ]
  },
  {
   "cell_type": "code",
   "execution_count": null,
   "metadata": {},
   "outputs": [],
   "source": [
    "# export\n",
    "def process_atom(input_file: str | pathlib.Path):\n",
    "    \n",
    "    print('Not implemented yet...')"
   ]
  },
  {
   "cell_type": "markdown",
   "metadata": {},
   "source": [
    "A function to parse command-line arguments and pass them to `process_atom` above."
   ]
  },
  {
   "cell_type": "code",
   "execution_count": null,
   "metadata": {},
   "outputs": [],
   "source": [
    "# export\n",
    "def cli_process_atom() -> None:\n",
    "    \n",
    "    parser = argparse.ArgumentParser(description='Process atom file')\n",
    "\n",
    "    parser.add_argument('input_file', type=argparse.FileType('r'), help='XML file')\n",
    "\n",
    "    command_line_arguments = parser.parse_args()\n",
    "    \n",
    "    process_atom(command_line_arguments.input_file.name)"
   ]
  },
  {
   "cell_type": "markdown",
   "metadata": {},
   "source": [
    "## Extending historical data"
   ]
  },
  {
   "cell_type": "markdown",
   "metadata": {},
   "source": [
    "A function to extend an existing *parquet* file with new data in a *zip* file."
   ]
  },
  {
   "cell_type": "code",
   "execution_count": null,
   "metadata": {},
   "outputs": [],
   "source": [
    "# export\n",
    "def cli_extend_parquet_with_zip(args: list = None) -> None:\n",
    "    \n",
    "    parser = argparse.ArgumentParser(description='Extend existing parquet file with data from a given zip')\n",
    "\n",
    "    parser.add_argument('history_file', type=argparse.FileType('r'), help='Parquet file')\n",
    "    parser.add_argument('zip_file', type=argparse.FileType('r'), help='Zip file')\n",
    "    parser.add_argument('output_file', help='Output (parquet) file')\n",
    "\n",
    "    command_line_arguments = parser.parse_args(args)\n",
    "    \n",
    "    history_file = pathlib.Path(command_line_arguments.history_file.name)\n",
    "    zip_file = pathlib.Path(command_line_arguments.zip_file.name)\n",
    "    \n",
    "    output_file = pathlib.Path(command_line_arguments.output_file)\n",
    "    # assert not output_file.exists()\n",
    "    assert output_file.suffix == '.parquet', 'a .parquet file was expected'\n",
    "    \n",
    "    dlsproc.extend.parquet_with_zip(history_file, zip_file, output_file)\n",
    "    # return command_line_arguments"
   ]
  },
  {
   "cell_type": "markdown",
   "metadata": {},
   "source": [
    "Testing with some sample files"
   ]
  },
  {
   "cell_type": "code",
   "execution_count": null,
   "metadata": {},
   "outputs": [
    {
     "name": "stdout",
     "output_type": "stream",
     "text": [
      "history_file=Path('/home/manu/dlsproc/samples/2018-2021_20samples.parquet')\n"
     ]
    }
   ],
   "source": [
    "history_file = directory /'2018-2021_20samples.parquet'\n",
    "assert history_file.exists()\n",
    "print(f'{history_file=}')"
   ]
  },
  {
   "cell_type": "code",
   "execution_count": null,
   "metadata": {},
   "outputs": [
    {
     "name": "stdout",
     "output_type": "stream",
     "text": [
      "new_zip_file=Path('/home/manu/dlsproc/samples/PlataformasAgregadasSinMenores_202201_28-29.zip')\n"
     ]
    }
   ],
   "source": [
    "new_zip_file = directory / 'PlataformasAgregadasSinMenores_202201_28-29.zip'\n",
    "assert new_zip_file.exists()\n",
    "print(f'{new_zip_file=}')"
   ]
  },
  {
   "cell_type": "code",
   "execution_count": null,
   "metadata": {},
   "outputs": [
    {
     "data": {
      "text/plain": [
       "Path('/home/manu/dlsproc/samples/extended_sample.parquet')"
      ]
     },
     "execution_count": null,
     "metadata": {},
     "output_type": "execute_result"
    }
   ],
   "source": [
    "output_file = directory / 'extended_sample.parquet'\n",
    "output_file"
   ]
  },
  {
   "cell_type": "code",
   "execution_count": null,
   "metadata": {},
   "outputs": [],
   "source": [
    "args = [history_file.as_posix(), new_zip_file.as_posix(), output_file.as_posix()]\n",
    "cli_extend_parquet_with_zip(args)"
   ]
  },
  {
   "cell_type": "code",
   "execution_count": null,
   "metadata": {},
   "outputs": [
    {
     "name": "stdout",
     "output_type": "stream",
     "text": [
      "2018-2021_20samples.parquet\n",
      "deleted_offending.atom\n",
      "extended_sample.parquet\n",
      "merged.parquet\n",
      "PLACE.yaml\n",
      "PlataformasAgregadasSinMenores_20220104_030016_1.atom\n",
      "PlataformasAgregadasSinMenores_20220104_030016_1_single.atom\n",
      "\u001b[0m\u001b[01;31mPlataformasAgregadasSinMenores_202201_05-06.zip\u001b[0m\n",
      "\u001b[01;31mPlataformasAgregadasSinMenores_202201_08-11.zip\u001b[0m\n",
      "\u001b[01;31mPlataformasAgregadasSinMenores_202201_28-29.zip\u001b[0m\n",
      "README.md\n",
      "\u001b[01;34myearly\u001b[0m/\n"
     ]
    }
   ],
   "source": [
    "%ls {directory}"
   ]
  },
  {
   "cell_type": "code",
   "execution_count": null,
   "metadata": {},
   "outputs": [
    {
     "name": "stdout",
     "output_type": "stream",
     "text": [
      "Converted 00_core.ipynb.\n"
     ]
    }
   ],
   "source": [
    "# hide\n",
    "import nbdev.export\n",
    "nbdev.export.notebook2script('00_core.ipynb')"
   ]
  }
 ],
 "metadata": {
  "kernelspec": {
   "display_name": "Python 3 (ipykernel)",
   "language": "python",
   "name": "python3"
  }
 },
 "nbformat": 4,
 "nbformat_minor": 4
}
