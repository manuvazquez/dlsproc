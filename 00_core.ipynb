{
 "cells": [
  {
   "cell_type": "code",
   "execution_count": null,
   "metadata": {},
   "outputs": [],
   "source": [
    "# default_exp core"
   ]
  },
  {
   "cell_type": "markdown",
   "metadata": {},
   "source": [
    "# core\n",
    "\n",
    "> Main functionality."
   ]
  },
  {
   "cell_type": "markdown",
   "metadata": {},
   "source": [
    "The main functionality is actually provided by the function below. `main` is just a *wrapper* that parses command-line arguments."
   ]
  },
  {
   "cell_type": "code",
   "execution_count": null,
   "metadata": {},
   "outputs": [],
   "source": [
    "#hide\n",
    "from nbdev.showdoc import *"
   ]
  },
  {
   "cell_type": "code",
   "execution_count": null,
   "metadata": {},
   "outputs": [],
   "source": [
    "# export\n",
    "import sys\n",
    "import argparse\n",
    "import pathlib\n",
    "\n",
    "import dlsproc.extend"
   ]
  },
  {
   "cell_type": "markdown",
   "metadata": {},
   "source": [
    "## Functionality"
   ]
  },
  {
   "cell_type": "code",
   "execution_count": null,
   "metadata": {},
   "outputs": [],
   "source": [
    "# export\n",
    "def process_atom(input_file: str | pathlib.Path):\n",
    "    \n",
    "    print(input_file)"
   ]
  },
  {
   "cell_type": "markdown",
   "metadata": {},
   "source": [
    "A function to parse command-line arguments and pass them to `process_atom` above."
   ]
  },
  {
   "cell_type": "code",
   "execution_count": null,
   "metadata": {},
   "outputs": [],
   "source": [
    "# export\n",
    "def cli_process_atom() -> None:\n",
    "    \n",
    "    parser = argparse.ArgumentParser(description='Process atom file')\n",
    "\n",
    "    parser.add_argument('input_file', type=argparse.FileType('r'), help='XML file')\n",
    "\n",
    "    command_line_arguments = parser.parse_args()\n",
    "    \n",
    "    process_atom(command_line_arguments.input_file.name)"
   ]
  },
  {
   "cell_type": "markdown",
   "metadata": {},
   "source": [
    "A function to extend an existing *parquet* file with new data in a *zip* file."
   ]
  },
  {
   "cell_type": "code",
   "execution_count": null,
   "metadata": {},
   "outputs": [],
   "source": [
    "# export\n",
    "def cli_extend_parquet_with_zip(args: list = None) -> None:\n",
    "    \n",
    "    parser = argparse.ArgumentParser(description='Extend existing parquet file with data from a given zip')\n",
    "\n",
    "    parser.add_argument('history_file', type=argparse.FileType('r'), help='Parquet file')\n",
    "    parser.add_argument('zip_file', type=argparse.FileType('r'), help='Zip file')\n",
    "    parser.add_argument('output_file', help='Output file')\n",
    "\n",
    "    command_line_arguments = parser.parse_args(args)\n",
    "    \n",
    "    history_file = pathlib.Path(command_line_arguments.history_file.name)\n",
    "    zip_file = pathlib.Path(command_line_arguments.zip_file.name)\n",
    "    \n",
    "    output_file = pathlib.Path(command_line_arguments.output_file)\n",
    "    assert not output_file.exists()\n",
    "    \n",
    "    dlsproc.extend.parquet_with_zip(history_file, zip_file, output_file)\n",
    "    \n",
    "    return command_line_arguments"
   ]
  },
  {
   "cell_type": "code",
   "execution_count": null,
   "metadata": {},
   "outputs": [],
   "source": [
    "# args = ['reports/2018-2021.parquet', 'data/agregados/PlataformasAgregadasSinMenores_202201.zip', 'extended.parquet']\n",
    "# command_line_arguments = cli_extend_parquet_with_zip(args)"
   ]
  },
  {
   "cell_type": "code",
   "execution_count": null,
   "metadata": {},
   "outputs": [
    {
     "name": "stdout",
     "output_type": "stream",
     "text": [
      "00_core.ipynb          CONTRIBUTING.md     \u001b[0m\u001b[01;32mmake_conda_environment.sh\u001b[0m*\n",
      "05_structure.ipynb     \u001b[01;34mdata\u001b[0m/               Makefile\n",
      "10_xml.ipynb           \u001b[01;34mdlsproc\u001b[0m/            MANIFEST.in\n",
      "15_postprocess.ipynb   \u001b[01;34mdlsproc.egg-info\u001b[0m/   README.md\n",
      "20_bundle.ipynb        docker-compose.yml  \u001b[01;34mreports\u001b[0m/\n",
      "30_hierarchical.ipynb  \u001b[01;34mdocs\u001b[0m/               \u001b[01;34msamples\u001b[0m/\n",
      "40_io.ipynb            \u001b[01;32mdownload.sh\u001b[0m*        \u001b[00;32msettings.ini\u001b[0m\n",
      "50_parse.ipynb         extended2.parquet   setup.py\n",
      "60_assemble.ipynb      extended.parquet    \u001b[01;34mwiki\u001b[0m/\n",
      "70_extend.ipynb        index.ipynb\n",
      "changelog              LICENSE\n"
     ]
    }
   ],
   "source": [
    "%ls"
   ]
  },
  {
   "cell_type": "code",
   "execution_count": null,
   "metadata": {},
   "outputs": [],
   "source": [
    "# args = ['extended.parquet', 'data/agregados/PlataformasAgregadasSinMenores_202202.zip', 'extended2.parquet']\n",
    "# cli_extend_parquet_with_zip(args)"
   ]
  },
  {
   "cell_type": "code",
   "execution_count": null,
   "metadata": {},
   "outputs": [
    {
     "name": "stdout",
     "output_type": "stream",
     "text": [
      "00_core.ipynb          CONTRIBUTING.md     \u001b[0m\u001b[01;32mmake_conda_environment.sh\u001b[0m*\n",
      "05_structure.ipynb     \u001b[01;34mdata\u001b[0m/               Makefile\n",
      "10_xml.ipynb           \u001b[01;34mdlsproc\u001b[0m/            MANIFEST.in\n",
      "15_postprocess.ipynb   \u001b[01;34mdlsproc.egg-info\u001b[0m/   README.md\n",
      "20_bundle.ipynb        docker-compose.yml  \u001b[01;34mreports\u001b[0m/\n",
      "30_hierarchical.ipynb  \u001b[01;34mdocs\u001b[0m/               \u001b[01;34msamples\u001b[0m/\n",
      "40_io.ipynb            \u001b[01;32mdownload.sh\u001b[0m*        \u001b[00;32msettings.ini\u001b[0m\n",
      "50_parse.ipynb         extended2.parquet   setup.py\n",
      "60_assemble.ipynb      extended.parquet    \u001b[01;34mwiki\u001b[0m/\n",
      "70_extend.ipynb        index.ipynb\n",
      "changelog              LICENSE\n"
     ]
    }
   ],
   "source": [
    "%ls"
   ]
  },
  {
   "cell_type": "code",
   "execution_count": null,
   "metadata": {},
   "outputs": [
    {
     "name": "stdout",
     "output_type": "stream",
     "text": [
      "Converted 00_core.ipynb.\n"
     ]
    }
   ],
   "source": [
    "# hide\n",
    "import nbdev.export\n",
    "nbdev.export.notebook2script('00_core.ipynb')"
   ]
  }
 ],
 "metadata": {
  "kernelspec": {
   "display_name": "Python 3 (ipykernel)",
   "language": "python",
   "name": "python3"
  }
 },
 "nbformat": 4,
 "nbformat_minor": 4
}
