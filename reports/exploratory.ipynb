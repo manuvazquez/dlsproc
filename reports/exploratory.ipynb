{
 "cells": [
  {
   "cell_type": "code",
   "execution_count": null,
   "id": "9d726f12-e682-49f0-94fb-ac579259ca35",
   "metadata": {},
   "outputs": [],
   "source": [
    "import pathlib\n",
    "# import xml.etree.ElementTree\n",
    "\n",
    "from lxml import etree\n",
    "\n",
    "import dlsproc.xml"
   ]
  },
  {
   "cell_type": "markdown",
   "id": "6c21acd9-4d6a-4b03-a146-1422449edb45",
   "metadata": {},
   "source": [
    "# Aggregates"
   ]
  },
  {
   "cell_type": "markdown",
   "id": "8d0aa4ee-85f7-48d7-bfaa-456c1c473482",
   "metadata": {},
   "source": [
    "Directory where the data (*XML* files) are stored"
   ]
  },
  {
   "cell_type": "code",
   "execution_count": null,
   "id": "00682f2d-6641-4618-ac1b-ddcdfd988039",
   "metadata": {},
   "outputs": [],
   "source": [
    "directory = pathlib.Path.home() / 'xml_parser/sample_files/PlataformasAgregadasSinMenores_202201/'\n",
    "assert directory.exists()"
   ]
  },
  {
   "cell_type": "markdown",
   "id": "1e2391bc-aefe-4c15-b276-9b0dcec4b879",
   "metadata": {},
   "source": [
    "A (sample) file in that directory"
   ]
  },
  {
   "cell_type": "code",
   "execution_count": null,
   "id": "a37e129f-21e3-4d61-837d-e33231afbe2a",
   "metadata": {},
   "outputs": [
    {
     "data": {
      "text/plain": [
       "PosixPath('/home/manu/xml_parser/sample_files/PlataformasAgregadasSinMenores_202201/PlataformasAgregadasSinMenores_20220104_030016_1.atom')"
      ]
     },
     "execution_count": null,
     "metadata": {},
     "output_type": "execute_result"
    }
   ],
   "source": [
    "input_file = directory / 'PlataformasAgregadasSinMenores_20220104_030016_1.atom'\n",
    "assert input_file.exists()\n",
    "input_file"
   ]
  },
  {
   "cell_type": "code",
   "execution_count": null,
   "id": "c1110fad-f93b-4946-8713-9e2a2fbb39b6",
   "metadata": {},
   "outputs": [
    {
     "name": "stdout",
     "output_type": "stream",
     "text": [
      "<?xml version=\"1.0\" encoding=\"UTF-8\" standalone=\"yes\"?>\n",
      "<feed xmlns=\"http://www.w3.org/2005/Atom\" xmlns:cbc-place-ext=\"urn:dgpe:names:draft:codice-place-ext:schema:xsd:CommonBasicComponents-2\" xmlns:cac-place-ext=\"urn:dgpe:names:draft:codice-place-ext:schema:xsd:CommonAggregateComponents-2\" xmlns:cbc=\"urn:dgpe:names:draft:codice:schema:xsd:CommonBasicComponents-2\" xmlns:cac=\"urn:dgpe:names:draft:codice:schema:xsd:CommonAggregateComponents-2\" xmlns:ns1=\"urn:oasis:names:specification:ubl:schema:xsd:CommonExtensionComponents-2\">\n",
      "    <author>\n",
      "        <name>Plataforma de Contratación del Sector Público</name>\n",
      "        <uri>https://contrataciondelestado.es</uri>\n",
      "        <email>contrataciondelestado@minhafp.es</email>\n",
      "    </author>\n",
      "    <id>https://contrataciondelestado.es/sindicacion/sindicacion_1044/PlataformasAgregadasSinMenores.atom</id>\n",
      "    <link href=\"PlataformasAgregadasSinMenores_20220104_030016_1.atom\" rel=\"self\"/>\n",
      "    <link href=\"PlataformasAgregadasSinMenores.atom\" rel=\"first\"/>\n",
      "    <link href=\"PlataformasAgregadasSinMenores_20220104_030016.atom\" rel=\"prev\"/>\n",
      "    <link href=\"PlataformasAgregadasSinMenores_20211231_030012.atom\" rel=\"next\"/>\n",
      "    <title>Licitaciones publicadas en la Plataforma de Contratación del Sector Público: Plataformas Agregadas Sin Menores</title>\n",
      "    <updated>2022-01-03T03:00:13.633+01:00</updated>\n",
      "    <at:deleted-entry ref=\"https://contrataciondelestado.es/sindicacion/PlataformasAgregadasSinMenores/1968384\" when=\"2022-01-03T00:11:41.879+01:00\" xmlns:at=\"http://purl.org/atompub/tombstones/1.0\"/>\n",
      "    <at:deleted-entry ref=\"https://contrataciondelestado.es/sindicacion/PlataformasAgregadasSinMenores/6802801\" when=\"2022-01-03T00:11:41.837+01:00\" xmlns:at=\"http://purl.org/atompub/tombstones/1.0\"/>\n",
      "    <at:deleted-entry ref=\"https://contrataciondelestado.es/sindicacion/PlataformasAgregadasSinMenores/8231582\" when=\"2022-01-03T00:11:41.790+01:00\" xmlns:at=\"http://purl.org/atompub/tombstones/1.0\"/>\n",
      "    <at:deleted-entry ref=\"https://contrataciondelestado.es/sindicacion/PlataformasAgregadasSinMenores/1968385\" when=\"2022-01-03T00:11:41.750+01:00\" xmlns:at=\"http://purl.org/atompub/tombstones/1.0\"/>\n",
      "    <at:deleted-entry ref=\"https://contrataciondelestado.es/sindicacion/PlataformasAgregadasSinMenores/1969766\" when=\"2022-01-03T00:11:41.698+01:00\" xmlns:at=\"http://purl.org/atompub/tombstones/1.0\"/>\n",
      "    <at:deleted-entry ref=\"https://contrataciondelestado.es/sindicacion/PlataformasAgregadasSinMenores/1968427\" when=\"2022-01-03T00:11:41.653+01:00\" xmlns:at=\"http://purl.org/atompub/tombstones/1.0\"/>\n"
     ]
    }
   ],
   "source": [
    "!head {input_file} --lines=20"
   ]
  },
  {
   "cell_type": "markdown",
   "id": "302717a9-6a68-4687-8eff-3147533b1967",
   "metadata": {},
   "source": [
    "*Namespaces* in the *XML* file"
   ]
  },
  {
   "cell_type": "code",
   "execution_count": null,
   "id": "942f5ac5-9485-4741-bba5-545a7ba77a80",
   "metadata": {},
   "outputs": [],
   "source": [
    "# dlsproc.xml.get_namespaces(input_file)"
   ]
  },
  {
   "cell_type": "code",
   "execution_count": null,
   "id": "74566f0b-2ce5-4a67-90ae-1fc795ecca48",
   "metadata": {},
   "outputs": [],
   "source": [
    "root = etree.parse(input_file).getroot()"
   ]
  },
  {
   "cell_type": "code",
   "execution_count": null,
   "id": "f5c59c38-cbc4-4676-ad1e-c6b09ad82cb4",
   "metadata": {},
   "outputs": [
    {
     "data": {
      "text/plain": [
       "<Element {http://www.w3.org/2005/Atom}link at 0x7efd68bfd0c0>"
      ]
     },
     "execution_count": null,
     "metadata": {},
     "output_type": "execute_result"
    }
   ],
   "source": [
    "root[3]"
   ]
  }
 ],
 "metadata": {
  "kernelspec": {
   "display_name": "Python 3 (ipykernel)",
   "language": "python",
   "name": "python3"
  }
 },
 "nbformat": 4,
 "nbformat_minor": 5
}
