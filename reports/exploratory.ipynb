{
 "cells": [
  {
   "cell_type": "code",
   "execution_count": null,
   "id": "9d726f12-e682-49f0-94fb-ac579259ca35",
   "metadata": {},
   "outputs": [],
   "source": [
    "import pathlib\n",
    "# import xml.etree.ElementTree\n",
    "\n",
    "import lxml.etree as ET\n",
    "\n",
    "import dlsproc.xml"
   ]
  },
  {
   "cell_type": "markdown",
   "id": "8d0aa4ee-85f7-48d7-bfaa-456c1c473482",
   "metadata": {},
   "source": [
    "Directory where the data (*XML* files) are stored"
   ]
  },
  {
   "cell_type": "code",
   "execution_count": null,
   "id": "00682f2d-6641-4618-ac1b-ddcdfd988039",
   "metadata": {},
   "outputs": [],
   "source": [
    "directory = pathlib.Path.home() / 'xml_parser/sample_files/PlataformasAgregadasSinMenores_202201/'\n",
    "assert directory.exists()"
   ]
  },
  {
   "cell_type": "markdown",
   "id": "1e2391bc-aefe-4c15-b276-9b0dcec4b879",
   "metadata": {},
   "source": [
    "A (sample) file in that directory"
   ]
  },
  {
   "cell_type": "code",
   "execution_count": null,
   "id": "a37e129f-21e3-4d61-837d-e33231afbe2a",
   "metadata": {},
   "outputs": [
    {
     "data": {
      "text/plain": [
       "PosixPath('/home/manu/xml_parser/sample_files/PlataformasAgregadasSinMenores_202201/PlataformasAgregadasSinMenores_20220104_030016_1.atom')"
      ]
     },
     "execution_count": null,
     "metadata": {},
     "output_type": "execute_result"
    }
   ],
   "source": [
    "input_file = directory / 'PlataformasAgregadasSinMenores_20220104_030016_1.atom'\n",
    "assert input_file.exists()\n",
    "input_file"
   ]
  },
  {
   "cell_type": "code",
   "execution_count": null,
   "id": "942f5ac5-9485-4741-bba5-545a7ba77a80",
   "metadata": {},
   "outputs": [
    {
     "data": {
      "text/plain": [
       "{'cbc-place-ext': 'urn:dgpe:names:draft:codice-place-ext:schema:xsd:CommonBasicComponents-2',\n",
       " 'cac-place-ext': 'urn:dgpe:names:draft:codice-place-ext:schema:xsd:CommonAggregateComponents-2',\n",
       " 'cbc': 'urn:dgpe:names:draft:codice:schema:xsd:CommonBasicComponents-2',\n",
       " 'cac': 'urn:dgpe:names:draft:codice:schema:xsd:CommonAggregateComponents-2',\n",
       " 'ns1': 'urn:oasis:names:specification:ubl:schema:xsd:CommonExtensionComponents-2',\n",
       " 'base': 'http://www.w3.org/2005/Atom'}"
      ]
     },
     "execution_count": null,
     "metadata": {},
     "output_type": "execute_result"
    }
   ],
   "source": [
    "dlsproc.xml.get_namespaces(input_file)"
   ]
  }
 ],
 "metadata": {
  "kernelspec": {
   "display_name": "Python 3 (ipykernel)",
   "language": "python",
   "name": "python3"
  }
 },
 "nbformat": 4,
 "nbformat_minor": 5
}
