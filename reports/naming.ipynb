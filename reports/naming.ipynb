{
 "cells": [
  {
   "cell_type": "markdown",
   "id": "93e00ac1-a9fb-495d-918c-5b52c8166440",
   "metadata": {},
   "source": [
    "> Code for translating *Atom*'s fields into columns' names"
   ]
  },
  {
   "cell_type": "code",
   "execution_count": null,
   "id": "3eb44c46-4a3e-43dd-a131-def495ee2763",
   "metadata": {},
   "outputs": [],
   "source": [
    "import pathlib\n",
    "\n",
    "import pandas as pd\n",
    "import ruamel.yaml"
   ]
  },
  {
   "cell_type": "markdown",
   "id": "a6399cb6-d44d-425f-ad20-eae750c50fda",
   "metadata": {},
   "source": [
    "Names mapping is expected in the file below"
   ]
  },
  {
   "cell_type": "code",
   "execution_count": null,
   "id": "5af05418-5f26-4d96-8097-49d01c38c26f",
   "metadata": {},
   "outputs": [
    {
     "data": {
      "text/plain": [
       "PosixPath('/home/manu/dlsproc/reports/PLACE.xlsx')"
      ]
     },
     "execution_count": null,
     "metadata": {},
     "output_type": "execute_result"
    }
   ],
   "source": [
    "excel_place = pathlib.Path.cwd() / 'PLACE.xlsx'\n",
    "assert excel_place.exists()\n",
    "excel_place"
   ]
  },
  {
   "cell_type": "code",
   "execution_count": null,
   "id": "d11d94e4-17aa-4c1b-8080-e1c9e49609fa",
   "metadata": {},
   "outputs": [
    {
     "data": {
      "text/html": [
       "<div>\n",
       "<style scoped>\n",
       "    .dataframe tbody tr th:only-of-type {\n",
       "        vertical-align: middle;\n",
       "    }\n",
       "\n",
       "    .dataframe tbody tr th {\n",
       "        vertical-align: top;\n",
       "    }\n",
       "\n",
       "    .dataframe thead th {\n",
       "        text-align: right;\n",
       "    }\n",
       "</style>\n",
       "<table border=\"1\" class=\"dataframe\">\n",
       "  <thead>\n",
       "    <tr style=\"text-align: right;\">\n",
       "      <th></th>\n",
       "      <th>Unnamed: 0</th>\n",
       "      <th>Unnamed: 1</th>\n",
       "      <th>Unnamed: 2</th>\n",
       "      <th>Unnamed: 3</th>\n",
       "      <th>Unnamed: 4</th>\n",
       "      <th>Unnamed: 5</th>\n",
       "      <th>Unnamed: 6</th>\n",
       "      <th>Categoría</th>\n",
       "      <th>Dato</th>\n",
       "    </tr>\n",
       "  </thead>\n",
       "  <tbody>\n",
       "    <tr>\n",
       "      <th>0</th>\n",
       "      <td>id</td>\n",
       "      <td>NaN</td>\n",
       "      <td>NaN</td>\n",
       "      <td>NaN</td>\n",
       "      <td>NaN</td>\n",
       "      <td>NaN</td>\n",
       "      <td>NaN</td>\n",
       "      <td>NaN</td>\n",
       "      <td>id</td>\n",
       "    </tr>\n",
       "    <tr>\n",
       "      <th>1</th>\n",
       "      <td>summary</td>\n",
       "      <td>NaN</td>\n",
       "      <td>NaN</td>\n",
       "      <td>NaN</td>\n",
       "      <td>NaN</td>\n",
       "      <td>NaN</td>\n",
       "      <td>NaN</td>\n",
       "      <td>NaN</td>\n",
       "      <td>summary</td>\n",
       "    </tr>\n",
       "    <tr>\n",
       "      <th>2</th>\n",
       "      <td>title</td>\n",
       "      <td>NaN</td>\n",
       "      <td>NaN</td>\n",
       "      <td>NaN</td>\n",
       "      <td>NaN</td>\n",
       "      <td>NaN</td>\n",
       "      <td>NaN</td>\n",
       "      <td>NaN</td>\n",
       "      <td>title</td>\n",
       "    </tr>\n",
       "    <tr>\n",
       "      <th>3</th>\n",
       "      <td>updated</td>\n",
       "      <td>NaN</td>\n",
       "      <td>NaN</td>\n",
       "      <td>NaN</td>\n",
       "      <td>NaN</td>\n",
       "      <td>NaN</td>\n",
       "      <td>NaN</td>\n",
       "      <td>NaN</td>\n",
       "      <td>updated</td>\n",
       "    </tr>\n",
       "    <tr>\n",
       "      <th>4</th>\n",
       "      <td>ContractFolderStatus</td>\n",
       "      <td>ContractFolderID</td>\n",
       "      <td>NaN</td>\n",
       "      <td>NaN</td>\n",
       "      <td>NaN</td>\n",
       "      <td>NaN</td>\n",
       "      <td>NaN</td>\n",
       "      <td>Datos Generales del Expediente</td>\n",
       "      <td>Número de Expediente</td>\n",
       "    </tr>\n",
       "  </tbody>\n",
       "</table>\n",
       "</div>"
      ],
      "text/plain": [
       "             Unnamed: 0        Unnamed: 1 Unnamed: 2 Unnamed: 3 Unnamed: 4  \\\n",
       "0                    id               NaN        NaN        NaN        NaN   \n",
       "1               summary               NaN        NaN        NaN        NaN   \n",
       "2                 title               NaN        NaN        NaN        NaN   \n",
       "3               updated               NaN        NaN        NaN        NaN   \n",
       "4  ContractFolderStatus  ContractFolderID        NaN        NaN        NaN   \n",
       "\n",
       "  Unnamed: 5 Unnamed: 6                       Categoría                  Dato  \n",
       "0        NaN        NaN                             NaN                    id  \n",
       "1        NaN        NaN                             NaN               summary  \n",
       "2        NaN        NaN                             NaN                 title  \n",
       "3        NaN        NaN                             NaN               updated  \n",
       "4        NaN        NaN  Datos Generales del Expediente  Número de Expediente  "
      ]
     },
     "execution_count": null,
     "metadata": {},
     "output_type": "execute_result"
    }
   ],
   "source": [
    "df = pd.read_excel(excel_place, sheet_name='Agregados sin menores', skiprows=5, usecols='A:I')\n",
    "df.head()"
   ]
  },
  {
   "cell_type": "markdown",
   "id": "286db44c-a821-4643-a59c-65ddfe80e5e1",
   "metadata": {},
   "source": [
    "Maximum number of levels is inferred"
   ]
  },
  {
   "cell_type": "code",
   "execution_count": null,
   "id": "7c5764b3-6d68-45b9-961c-a1bfc4b105fd",
   "metadata": {},
   "outputs": [
    {
     "data": {
      "text/plain": [
       "7"
      ]
     },
     "execution_count": null,
     "metadata": {},
     "output_type": "execute_result"
    }
   ],
   "source": [
    "max_levels = df.shape[1] - 2\n",
    "max_levels"
   ]
  },
  {
   "cell_type": "code",
   "execution_count": null,
   "id": "dd3fc8e5-8dc8-441e-80ff-48d352e57edd",
   "metadata": {},
   "outputs": [],
   "source": [
    "mapping = {}\n",
    "for t in df.itertuples(index=False):\n",
    "    \n",
    "    # only if there is a \"to\" for this path in the *Atom*...\n",
    "    if t[-1] != '???':\n",
    "        # ...the mapping is saved\n",
    "        mapping[t[-1]] = t[:max_levels]"
   ]
  },
  {
   "cell_type": "code",
   "execution_count": null,
   "id": "314fd419-6c93-4c2a-b7b9-c538f8254e84",
   "metadata": {},
   "outputs": [
    {
     "data": {
      "text/plain": [
       "dict_keys(['id', 'summary', 'title', 'updated', 'Número de Expediente', 'Estado', 'ID', 'Nombre', 'URL perfil de contratante', 'Ubicación orgánica', 'Objeto del Contrato', 'Tipo de Contrato', 'Subtipo', 'Valor estimado del contrato', 'Presupuesto base sin impuestos', 'Presupuesto base con impuestos', 'Clasificación CPV', 'Código de Subentidad Nacional', 'Subentidad Territorial', 'Población', 'Plazo de Ejecución', 'Nümero de Lote', 'Objeto', 'Importe sin impuestos', 'Importe con impuestos', 'Tipo de Procedimiento', 'Fecha', 'Hora', 'Observaciones', 'Tipo de Anuncio', 'Medio de Publicación', 'Fecha de Publicación', 'Resultado', 'Fecha del Acuerdo', 'Número de Licitadores Participantes', 'Identificador (+ Tipo: mod schemeName)', 'Nombre del Adjudicatario', 'Lote', 'Importe total ofertado (sin impuestos)', 'Importe total ofertado (con impuestos)', 'Pliego de cláusulas administrativas', 'Pliego de Prescripciones técnicas', 'Anexos a los pliegos'])"
      ]
     },
     "execution_count": null,
     "metadata": {},
     "output_type": "execute_result"
    }
   ],
   "source": [
    "mapping.keys()"
   ]
  },
  {
   "cell_type": "code",
   "execution_count": null,
   "id": "bf8a8d9d-15fc-45fb-bcdc-807dc5d3c3d9",
   "metadata": {},
   "outputs": [],
   "source": [
    "# output_file = pathlib.Path('PLACE_naming.yaml')\n",
    "output_file = pathlib.Path('PLACE.yaml')"
   ]
  },
  {
   "cell_type": "code",
   "execution_count": null,
   "id": "b836f47a-cb8e-4bfb-9730-6fda2e81ec4d",
   "metadata": {},
   "outputs": [],
   "source": [
    "yaml = ruamel.yaml.YAML()\n",
    "yaml.indent(sequence=4, offset=2)\n",
    "# yaml.default_flow_style = True\n",
    "\n",
    "with open(output_file, 'w') as f:\n",
    "    yaml.dump(mapping, f)"
   ]
  }
 ],
 "metadata": {
  "kernelspec": {
   "display_name": "Python 3 (ipykernel)",
   "language": "python",
   "name": "python3"
  }
 },
 "nbformat": 4,
 "nbformat_minor": 5
}
